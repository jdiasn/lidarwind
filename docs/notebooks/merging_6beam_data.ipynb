{
 "cells": [
  {
   "cell_type": "markdown",
   "id": "175fb723-aa26-445b-ad17-e74a2d49d799",
   "metadata": {},
   "source": [
    "## Goal:\n",
    "\n",
    "This example focuses on using lidarSuit to retrieve wind speed and direction profiles from the observations collected by the WindCube using the 6-beam scan strategy. \n",
    "\n",
    "## Steps:\n",
    "\n",
    "1) Read the WindCube's data\n",
    "2) Merge data from one hour of observations\n",
    "3) Re-structure the data for using the wind retrieval\n",
    "4) Retrieve wind profiles using an FFT-based method\n",
    "5) Saving as NetCDF"
   ]
  },
  {
   "cell_type": "code",
   "execution_count": 1,
   "id": "13eafb3a-dfc4-4e0b-b330-463caf3c0351",
   "metadata": {},
   "outputs": [],
   "source": [
    "import glob as gb\n",
    "import matplotlib.pyplot as plt\n",
    "\n",
    "import lidarSuit as lst"
   ]
  },
  {
   "cell_type": "markdown",
   "id": "cd66d1e2-a12f-41c5-9576-ab1020e4db06",
   "metadata": {
    "tags": []
   },
   "source": [
    "### Step 1 and 2: reading and merging the 6-beam data"
   ]
  },
  {
   "cell_type": "code",
   "execution_count": 2,
   "id": "e2e9287f-ad18-4eeb-afa6-6b28db400b8b",
   "metadata": {},
   "outputs": [],
   "source": [
    "# a 6-beam sample data is available at the path below\n",
    "data_path = '../../sampleData/wind_and_aerosols_data/12-00/*.nc'\n",
    "file_list = sorted(gb.glob(data_path))\n",
    "mergedDS = lst.dataOperations(file_list).mergedData"
   ]
  },
  {
   "cell_type": "markdown",
   "id": "bfc2fc46-a7a1-4502-a4b3-1d8c65a6860c",
   "metadata": {},
   "source": [
    "Below you can see all the variables available on the original WindCube's data. Not all of them are needed for retrieving the wind profiles. Note that the variables from the vertical observations are kept separate from the slanted observation. "
   ]
  },
  {
   "cell_type": "code",
   "execution_count": 3,
   "id": "19277599-df42-4b08-8a70-b0a7974b701b",
   "metadata": {},
   "outputs": [],
   "source": [
    "# Uncomment the line below\n",
    "\n",
    "# mergedDS"
   ]
  },
  {
   "cell_type": "markdown",
   "id": "b5b33748-7d4a-4e9f-99f4-2bbfe2077dae",
   "metadata": {},
   "source": [
    "First inpressions from the vertical and slanted observations"
   ]
  },
  {
   "cell_type": "code",
   "execution_count": 4,
   "id": "00892a03-b6fc-46ed-bb91-7a470920d088",
   "metadata": {},
   "outputs": [],
   "source": [
    "# Uncomment the lines below\n",
    "\n",
    "# mergedDS.radial_wind_speed.plot(x='time', cmap='Spectral',vmin=-1, vmax=1)\n",
    "# plt.show()\n",
    "\n",
    "# mergedDS.radial_wind_speed90.plot(x='time', cmap='Spectral', vmin=-1, vmax=1)\n",
    "# plt.show()"
   ]
  },
  {
   "cell_type": "markdown",
   "id": "a8dee81e-0751-4f9d-ba5e-1d30b11bcb5c",
   "metadata": {},
   "source": [
    "### Step 3: re-structuring the data"
   ]
  },
  {
   "cell_type": "code",
   "execution_count": 5,
   "id": "0b65dd0f-ba45-48b3-889b-f10cd348e006",
   "metadata": {},
   "outputs": [],
   "source": [
    "restruct_data = lst.getRestructuredData(mergedDS)"
   ]
  },
  {
   "cell_type": "markdown",
   "id": "c119d368-ec3b-40de-b1d6-55a2bb41c327",
   "metadata": {},
   "source": [
    "The re-structured object contains all the information needed to retrieve the wind profiles. You can have a look again at the slanted and vertical observations."
   ]
  },
  {
   "cell_type": "code",
   "execution_count": 6,
   "id": "7514b47d-98b5-48a9-a3ec-f556b6090563",
   "metadata": {},
   "outputs": [],
   "source": [
    "# Radial observation at an elevation of 75 degrees and an azimuth of 216 degrees\n",
    "# Uncomment the lines below\n",
    "\n",
    "# restruct_data.dataTransf.isel(azm=3).plot(x='time',cmap='Spectral',vmin=-1, vmax=1)\n",
    "# plt.show()\n",
    "\n",
    "# Observations from the zenith pointing measurements\n",
    "# Uncomment the lines below\n",
    "\n",
    "# restruct_data.dataTransf90.plot(x='time', cmap='Spectral', vmin=-1, vmax=1)\n",
    "# plt.show()"
   ]
  },
  {
   "cell_type": "markdown",
   "id": "837bdc20-689d-4a23-87d8-3f4effd3f5c5",
   "metadata": {},
   "source": [
    "### Step 4: retrieving wind profiles"
   ]
  },
  {
   "cell_type": "code",
   "execution_count": 7,
   "id": "fe7a7ef3-7883-427b-bf0a-382b4d1b85b1",
   "metadata": {},
   "outputs": [
    {
     "name": "stderr",
     "output_type": "stream",
     "text": [
      "/Users/jdiasneto/.local/lib/python3.8/site-packages/xrft/xrft.py:338: FutureWarning: Flags true_phase and true_amplitude will be set to True in future versions of xrft.dft to preserve the theoretical phasing and amplitude of Fourier Transform. Consider using xrft.fft to ensure future compatibility with numpy.fft like behavior and to deactivate this warning.\n",
      "  warnings.warn(msg, FutureWarning)\n"
     ]
    }
   ],
   "source": [
    "wind_obj = lst.retrieveWind(restruct_data)"
   ]
  },
  {
   "cell_type": "markdown",
   "id": "6a657063-fd88-4a0f-a22e-764b1f8a27e9",
   "metadata": {},
   "source": [
    "After retrieving the wind profiles, the dataset can be accessed by calling the windProp attribute. You can also visualize the retrieved wind speed and direction pofiles. Have a look below."
   ]
  },
  {
   "cell_type": "code",
   "execution_count": 8,
   "id": "6d1ad119-9577-47ad-91e5-c2823fa4a12d",
   "metadata": {},
   "outputs": [],
   "source": [
    "# Uncomment the line below\n",
    "\n",
    "# wind_obj.windProp"
   ]
  },
  {
   "cell_type": "code",
   "execution_count": 9,
   "id": "9491f788-7595-4e0c-ac92-01e6c88853ca",
   "metadata": {},
   "outputs": [],
   "source": [
    "# Uncomment the lines below to see the plots\n",
    "\n",
    "# wind_obj.windProp.horizontal_wind_speed.plot(y='range', cmap='turbo')\n",
    "# plt.show()\n",
    "\n",
    "# wind_obj.windProp.horizontal_wind_direction.plot(y='range', cmap='hsv')\n",
    "# plt.show()"
   ]
  },
  {
   "cell_type": "markdown",
   "id": "663fa802-021f-4f4f-8c46-98027e2791cc",
   "metadata": {},
   "source": [
    "### Step 5: Saving as NetCDF"
   ]
  },
  {
   "cell_type": "code",
   "execution_count": 10,
   "id": "80f40d3e-031e-4d1e-a2b5-c2b3d3746d63",
   "metadata": {},
   "outputs": [],
   "source": [
    "# Uncomment the line below\n",
    "\n",
    "# wind_obj.windProp.to_netcdf('6_beam_example.nc')"
   ]
  },
  {
   "cell_type": "code",
   "execution_count": null,
   "id": "d8bcf878-b219-4784-9783-22346ee58e97",
   "metadata": {},
   "outputs": [],
   "source": []
  }
 ],
 "metadata": {
  "kernelspec": {
   "display_name": "Python 3 (ipykernel)",
   "language": "python",
   "name": "python3"
  },
  "language_info": {
   "codemirror_mode": {
    "name": "ipython",
    "version": 3
   },
   "file_extension": ".py",
   "mimetype": "text/x-python",
   "name": "python",
   "nbconvert_exporter": "python",
   "pygments_lexer": "ipython3",
   "version": "3.8.13"
  }
 },
 "nbformat": 4,
 "nbformat_minor": 5
}

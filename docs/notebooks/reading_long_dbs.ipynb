{
 "cells": [
  {
   "cell_type": "markdown",
   "id": "5a4475fa-e52b-479b-9c81-2a5ee5071030",
   "metadata": {},
   "source": [
    "## Goal:\n",
    "\n",
    "This example focuses on using lidarSuit to retrieve wind speed and direction profiles from the observations collected by the WindCube using the DBS scan strategy. In this example, the sample files have observations from several consecutive scans.\n",
    "\n",
    "## Steps:\n",
    "\n",
    "1) Read the DBS files\n",
    "2) Merge the DBS files\n",
    "3) Retrieve the wind profiles \n",
    "4) Visualising the profiles"
   ]
  },
  {
   "cell_type": "code",
   "execution_count": 1,
   "id": "d7c8bedc-ba5c-4de0-8060-78362b2cd88c",
   "metadata": {},
   "outputs": [],
   "source": [
    "import gdown\n",
    "import shutil\n",
    "import xarray as xr\n",
    "import glob as gb\n",
    "\n",
    "import lidarSuit as lst\n",
    "import matplotlib.pyplot as plt"
   ]
  },
  {
   "cell_type": "markdown",
   "id": "af18abd4-3ac4-41ee-8247-15cd2ab779fd",
   "metadata": {},
   "source": [
    "### Step 0: Downloading the sample data"
   ]
  },
  {
   "cell_type": "code",
   "execution_count": 2,
   "id": "705b0df0-07f2-4fa3-a355-048fa03a1aae",
   "metadata": {},
   "outputs": [],
   "source": [
    "url = 'https://drive.google.com/uc?export=download&id=1FCmrXAwlwbghLeTB0nyeGfV9J_ofhOaH'\n",
    "output = 'long_dbs.zip'\n",
    "gdown.download(url, output, quiet=False)"
   ]
  },
  {
   "cell_type": "code",
   "execution_count": 3,
   "id": "9d9b36de-dce8-4505-a3fc-fd44407929b0",
   "metadata": {},
   "outputs": [],
   "source": [
    "shutil.unpack_archive('long_dbs.zip','.')"
   ]
  },
  {
   "cell_type": "markdown",
   "id": "a5f2fea2-88d5-481c-857e-f34573274325",
   "metadata": {},
   "source": [
    "### Step 1 and 2: Reading and merging the DBS "
   ]
  },
  {
   "cell_type": "markdown",
   "id": "9816ec72-029a-4f99-838b-1036ea71259f",
   "metadata": {},
   "source": [
    "Here we are going to read all the DBS files. Be careful to provide a list of files that are compatible with each other. Here we also indicate the variables required for processing the DBS fils. Finally, the merged dataset is created. "
   ]
  },
  {
   "cell_type": "code",
   "execution_count": 4,
   "id": "0978e96b-8114-4ba7-a497-f659f2133aeb",
   "metadata": {},
   "outputs": [],
   "source": [
    "data_path = './long_dbs/*dbs*_75m.nc'\n",
    "file_list = sorted(gb.glob(data_path))\n",
    "\n",
    "var_list = ['azimuth', 'elevation', 'radial_wind_speed', \n",
    "            'radial_wind_speed_status', 'measurement_height', 'cnr']\n",
    "\n",
    "mergedDS = lst.dbsOperations(file_list, var_list).mergedDS"
   ]
  },
  {
   "cell_type": "markdown",
   "id": "c200e20e-849b-4de4-bca5-141acff350fb",
   "metadata": {},
   "source": [
    "### Step 3: Wind profile retrievals"
   ]
  },
  {
   "cell_type": "markdown",
   "id": "105554ab-e180-46eb-b9e7-98cad042412d",
   "metadata": {},
   "source": [
    "Once the merged dataset is created, you can use the dedicated class to retrieve the wind profiles. "
   ]
  },
  {
   "cell_type": "code",
   "execution_count": 5,
   "id": "389ab857-d969-4398-a1a6-d670a8f4727f",
   "metadata": {},
   "outputs": [],
   "source": [
    "wind_obj = lst.getWindProperties5Beam(mergedDS)#, method='continuous', tolerance='9s')"
   ]
  },
  {
   "cell_type": "markdown",
   "id": "684431d1-e481-4b80-93c0-8fe612d5b8d9",
   "metadata": {},
   "source": [
    "As indicated below, you can read the wind profiles directly from the wind_obj (wind object). Since they have different timestamps, it is helpful to resample the data into a regular time grid."
   ]
  },
  {
   "cell_type": "code",
   "execution_count": 6,
   "id": "21db6318-294a-4a7f-8c72-232302de0d06",
   "metadata": {},
   "outputs": [],
   "source": [
    "horWindSpeed = lst.getResampledData(wind_obj.horWindSpeed, timeFreq='20s', tolerance=10)\n",
    "verWindSpeed = lst.getResampledData(wind_obj.verWindSpeed, timeFreq='20s', tolerance=10)\n",
    "horWindDir = lst.getResampledData(wind_obj.horWindDir, timeFreq='20s', tolerance=10)"
   ]
  },
  {
   "cell_type": "markdown",
   "id": "a14bf1a2-a1b9-4d2d-aa95-4e6993f24d7b",
   "metadata": {},
   "source": [
    "### Step 4: Visualising the profiles"
   ]
  },
  {
   "cell_type": "markdown",
   "id": "2eee2170-e2d0-4dee-b1d9-029411db645c",
   "metadata": {},
   "source": [
    "After resampling, you can use the xarray methods to plot the data. "
   ]
  },
  {
   "cell_type": "code",
   "execution_count": 7,
   "id": "03ab9f9a-680b-4988-81f2-c31d58cbef8f",
   "metadata": {},
   "outputs": [],
   "source": [
    "# Uncomment the lines below\n",
    "\n",
    "# t1 = mergedDS.time.values[0]\n",
    "# t2 = mergedDS.time.values[-1]\n",
    "\n",
    "# horWindSpeed.resampled.sel(time_ref=slice(t1,t2)).plot(y='range', cmap='turbo')\n",
    "# plt.show()\n",
    "\n",
    "# verWindSpeed.resampled.sel(time_ref=slice(t1,t2)).plot(y='range', cmap='turbo')\n",
    "# plt.show()\n",
    "\n",
    "# horWindDir.resampled.sel(time_ref=slice(t1,t2)).plot(y='range', cmap='hsv')\n",
    "# plt.show()"
   ]
  }
 ],
 "metadata": {
  "kernelspec": {
   "display_name": "Python 3 (ipykernel)",
   "language": "python",
   "name": "python3"
  },
  "language_info": {
   "codemirror_mode": {
    "name": "ipython",
    "version": 3
   },
   "file_extension": ".py",
   "mimetype": "text/x-python",
   "name": "python",
   "nbconvert_exporter": "python",
   "pygments_lexer": "ipython3",
   "version": "3.8.13"
  }
 },
 "nbformat": 4,
 "nbformat_minor": 5
}

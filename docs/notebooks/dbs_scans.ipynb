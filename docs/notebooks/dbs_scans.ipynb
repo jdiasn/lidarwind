{
 "cells": [
  {
   "cell_type": "markdown",
   "id": "5a4475fa-e52b-479b-9c81-2a5ee5071030",
   "metadata": {},
   "source": [
    "## Goal:\n",
    "\n",
    "This example focuses on using lidarSuit to retrieve wind speed and direction profiles from the observations collected by the WindCube using the DBS scan strategy. \n",
    "\n",
    "## Steps:\n",
    "\n",
    "1) Read the DBS files\n",
    "2) Merge the DBS files\n",
    "3) Retrieve the wind profiles \n",
    "4) Visualising the profiles"
   ]
  },
  {
   "cell_type": "code",
   "execution_count": 1,
   "id": "d48102e0-d462-491d-9f93-5a5c9b2b2f09",
   "metadata": {},
   "outputs": [],
   "source": [
    "import xarray as xr\n",
    "import glob as gb\n",
    "\n",
    "import lidarSuit as lst\n",
    "import matplotlib.pyplot as plt"
   ]
  },
  {
   "cell_type": "markdown",
   "id": "df122154-b517-4d1c-9cc9-69f060ebfd22",
   "metadata": {},
   "source": [
    "### Step 1 and 2: Reading and merging the DBS "
   ]
  },
  {
   "cell_type": "markdown",
   "id": "52c53bc8-07d2-4cb0-8f7d-8505807f13fd",
   "metadata": {},
   "source": [
    "Here we are going to read all the DBS files. Be careful to provide a list of files that are compatible with each other. Here we also indicate the variables required for processing the DBS fils. Finally, the merged dataset is created. "
   ]
  },
  {
   "cell_type": "code",
   "execution_count": 2,
   "id": "3839b2d4-34d4-42cb-b63a-bc2fdf8fc62c",
   "metadata": {},
   "outputs": [],
   "source": [
    "data_path = '../../sampleData/wind_and_aerosols_data/13-00/*dbs*452_100m.nc'\n",
    "file_list = sorted(gb.glob(data_path))\n",
    "\n",
    "var_list = ['azimuth', 'elevation', 'radial_wind_speed', \n",
    "            'radial_wind_speed_status', 'measurement_height', 'cnr']\n",
    "\n",
    "mergedDS = lst.dbsOperations(file_list, var_list).mergedDS"
   ]
  },
  {
   "cell_type": "markdown",
   "id": "1579299b-809e-41de-9d1b-f0153a7b0c5a",
   "metadata": {},
   "source": [
    "### Step 3: Wind profile retrievals"
   ]
  },
  {
   "cell_type": "markdown",
   "id": "9a13c5c5-7b18-4cb4-9c65-b77cfbf3634e",
   "metadata": {},
   "source": [
    "Once the merged dataset is created, you can use the dedicated class to retrieve the wind profiles. "
   ]
  },
  {
   "cell_type": "code",
   "execution_count": 3,
   "id": "f7e87cad-afc2-4c89-accb-f2d0f6074021",
   "metadata": {},
   "outputs": [],
   "source": [
    "wind_obj = lst.getWindProperties5Beam(mergedDS)"
   ]
  },
  {
   "cell_type": "markdown",
   "id": "7ca5741f-d5bc-48a8-b1f3-eb428b4f0349",
   "metadata": {},
   "source": [
    "As indicated below, you can read the wind profiles directly from the wind_obj (wind object). Since they have different timestamps, it is helpful to resample the data into a regular time grid."
   ]
  },
  {
   "cell_type": "code",
   "execution_count": 4,
   "id": "21db6318-294a-4a7f-8c72-232302de0d06",
   "metadata": {},
   "outputs": [],
   "source": [
    "horWindSpeed = lst.getResampledData(wind_obj.horWindSpeed, timeFreq='20s', tolerance=10)\n",
    "verWindSpeed = lst.getResampledData(wind_obj.verWindSpeed, timeFreq='20s', tolerance=10)\n",
    "horWindDir = lst.getResampledData(wind_obj.horWindDir, timeFreq='20s', tolerance=10)"
   ]
  },
  {
   "cell_type": "markdown",
   "id": "a14bf1a2-a1b9-4d2d-aa95-4e6993f24d7b",
   "metadata": {},
   "source": [
    "### Step 4: Visualising the profiles"
   ]
  },
  {
   "cell_type": "markdown",
   "id": "2eee2170-e2d0-4dee-b1d9-029411db645c",
   "metadata": {},
   "source": [
    "After resampling, you can use the xarray methods to plot the data. "
   ]
  },
  {
   "cell_type": "code",
   "execution_count": 5,
   "id": "03ab9f9a-680b-4988-81f2-c31d58cbef8f",
   "metadata": {},
   "outputs": [],
   "source": [
    "# Uncomment the lines below\n",
    "\n",
    "# t1 = mergedDS.time.values[0]\n",
    "# t2 = mergedDS.time.values[-1]\n",
    "\n",
    "# horWindSpeed.resampled.sel(time_ref=slice(t1,t2)).plot(y='range', cmap='turbo')\n",
    "# plt.show()\n",
    "\n",
    "# verWindSpeed.resampled.sel(time_ref=slice(t1,t2)).plot(y='range', cmap='turbo')\n",
    "# plt.show()\n",
    "\n",
    "# horWindDir.resampled.sel(time_ref=slice(t1,t2)).plot(y='range', cmap='hsv')\n",
    "# plt.show()"
   ]
  },
  {
   "cell_type": "code",
   "execution_count": null,
   "id": "3688829a-c717-47f9-8101-02f70851e654",
   "metadata": {},
   "outputs": [],
   "source": []
  }
 ],
 "metadata": {
  "kernelspec": {
   "display_name": "Python 3 (ipykernel)",
   "language": "python",
   "name": "python3"
  },
  "language_info": {
   "codemirror_mode": {
    "name": "ipython",
    "version": 3
   },
   "file_extension": ".py",
   "mimetype": "text/x-python",
   "name": "python",
   "nbconvert_exporter": "python",
   "pygments_lexer": "ipython3",
   "version": "3.8.13"
  }
 },
 "nbformat": 4,
 "nbformat_minor": 5
}

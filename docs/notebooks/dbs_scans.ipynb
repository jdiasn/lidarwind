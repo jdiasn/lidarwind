{
 "cells": [
  {
   "cell_type": "markdown",
   "id": "5a4475fa-e52b-479b-9c81-2a5ee5071030",
   "metadata": {},
   "source": [
    "## Goal:\n",
    "\n",
    "This example focuses on using lidarSuit to retrieve wind speed and direction profiles from the observations collected by the WindCube using the DBS scan strategy. "
   ]
  },
  {
   "cell_type": "code",
   "execution_count": null,
   "id": "d48102e0-d462-491d-9f93-5a5c9b2b2f09",
   "metadata": {},
   "outputs": [],
   "source": [
    "import os\n",
    "import xarray as xr\n",
    "import pandas as pd\n",
    "import glob as gb\n",
    "\n",
    "import lidarSuit as lst\n",
    "import matplotlib.pyplot as plt"
   ]
  },
  {
   "cell_type": "code",
   "execution_count": null,
   "id": "b78a4a0d-d152-4475-abfa-4a654b2ea701",
   "metadata": {},
   "outputs": [],
   "source": [
    "def imputDicParam(selDay, rangeRes, fileType):\n",
    "    \"\"\"\n",
    "    This function creates a dictionary with \n",
    "    some basic useful parameters\n",
    "    \n",
    "    \"\"\"\n",
    "    \n",
    "    dicParam = {}\n",
    "    \n",
    "    # path to the daily files\n",
    "    dicParam['dataPath']='/Users/jdiasneto/Data/windcube/{0}/wind_and_aerosols_data/*'.format(selDay.strftime('%Y-%m-%d'))\n",
    "    # variables required for processing\n",
    "    dicParam['varList'] = ['azimuth', 'elevation', 'radial_wind_speed', 'radial_wind_speed_status', 'measurement_height', 'cnr']\n",
    "    # range resolution\n",
    "    dicParam['rangeRes'] = rangeRes\n",
    "    # tipe of file\n",
    "    dicParam['fileType'] = fileType\n",
    "    # selected day \n",
    "    dicParam['selDay'] = selDay\n",
    "    \n",
    "    return dicParam"
   ]
  },
  {
   "cell_type": "code",
   "execution_count": null,
   "id": "60732b93-5329-4de6-81d3-2ae947c81607",
   "metadata": {},
   "outputs": [],
   "source": [
    "def getHourlyPathList(path, parameters): \n",
    "    \n",
    "    \"\"\"\n",
    "    This function creates a list containing \n",
    "    all data paths from a given hourly path.\n",
    "    \n",
    "    \"\"\"\n",
    "    \n",
    "    hour = path.split('/')[-1].split('-')[0] \n",
    "    date = pd.to_datetime('{0} {1}:00'.format(parameters['selDay'].strftime('%Y%m%d'), hour))\n",
    "    \n",
    "    genFileName = os.path.join(path,'*{0}*{1}.nc'.format(parameters['fileType'], parameters['rangeRes']))\n",
    "        \n",
    "    fileList = gb.glob(genFileName)\n",
    "    fileList = sorted(fileList)\n",
    "\n",
    "    return fileList"
   ]
  },
  {
   "cell_type": "code",
   "execution_count": null,
   "id": "b8ad21cf-4528-4a51-9585-b74afe43bf40",
   "metadata": {},
   "outputs": [],
   "source": [
    "def getDaylyDS(parameters):\n",
    "    \"\"\"\n",
    "    This function gives a daily merged dataset cotaining\n",
    "    all variables required for derivbing wind speed and \n",
    "    direction from a given set of parameters\n",
    "    \"\"\"\n",
    "\n",
    "    lidarData = xr.Dataset()\n",
    "    hourlyDataPath = sorted(gb.glob(parameters['dataPath']))\n",
    "\n",
    "    for path in hourlyDataPath:\n",
    "\n",
    "        print(path)\n",
    "        tmpPathList = getHourlyPathList(path, parameters)\n",
    "\n",
    "        tmpLidarData = lst.dbsOperations(tmpPathList, parameters['varList']).mergedDS\n",
    "        lidarData = xr.merge([lidarData, tmpLidarData])\n",
    "\n",
    "    return lidarData"
   ]
  },
  {
   "cell_type": "code",
   "execution_count": null,
   "id": "77b37487-c5f0-4839-af59-2d3106e27c61",
   "metadata": {},
   "outputs": [],
   "source": [
    "# main code\n",
    "\n",
    "startProcess = pd.to_datetime('20210417')\n",
    "endProcess = pd.to_datetime('20210417')\n",
    "rangeRes = '25m'\n",
    "fileType = 'dbs'\n",
    "\n",
    "for selDay in pd.date_range(startProcess, endProcess):\n",
    "    \n",
    "    print(selDay)\n",
    "    \n",
    "    parameters = imputDicParam(selDay, rangeRes, fileType)\n",
    "    lidarData = getDaylyDS(parameters)\n",
    "\n",
    "\n",
    "windProp = lst.getWindProperties5Beam(lidarData.copy(), statusFilter=False,\n",
    "                                      cnr=None, method='single_dbs')\n",
    "#windProp = lst.getWindProperties5Beam(lidarData.copy(), statusFilter=True,\n",
    "#                                      cnr=None, method='continuous', tolerance='9s')\n",
    "\n",
    "windSpeed = lst.getResampledData(windProp.horWindSpeed).resampled\n",
    "windDir = lst.getResampledData(windProp.horWindDir).resampled\n",
    "\n",
    "\n",
    "plt.figure(figsize=(18,6))\n",
    "windSpeed.plot(x='time_ref', cmap='turbo', vmin=0, vmax=20)\n",
    "plt.grid(b=True)\n",
    "plt.show()\n",
    "\n",
    "plt.figure(figsize=(18,6))\n",
    "windDir.plot(x='time_ref', cmap='turbo', vmin=50, vmax=300)\n",
    "plt.grid(b=True)\n",
    "plt.show()"
   ]
  }
 ],
 "metadata": {
  "kernelspec": {
   "display_name": "Python 3 (ipykernel)",
   "language": "python",
   "name": "python3"
  },
  "language_info": {
   "codemirror_mode": {
    "name": "ipython",
    "version": 3
   },
   "file_extension": ".py",
   "mimetype": "text/x-python",
   "name": "python",
   "nbconvert_exporter": "python",
   "pygments_lexer": "ipython3",
   "version": "3.8.13"
  }
 },
 "nbformat": 4,
 "nbformat_minor": 5
}

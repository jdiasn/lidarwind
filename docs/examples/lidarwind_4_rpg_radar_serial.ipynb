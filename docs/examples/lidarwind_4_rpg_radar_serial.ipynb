{
 "cells": [
  {
   "cell_type": "markdown",
   "metadata": {},
   "source": [
    "# Wind retrievel for RPG radar"
   ]
  },
  {
   "cell_type": "markdown",
   "metadata": {
    "id": "6-9RSNp7zde7"
   },
   "source": [
    "**lidarwind** is the package name used to retrieve wind profiles from the radar PPI scans. The package was initially developed to process wind lidar data (https://doi.org/10.21105/joss.04852). Because the physical principle of retrieving wind from lidar and radar observations is the same, lidar wind was extended to support the RPG radar data. Below, you will find an example of lidarwind applied to RPG PPI radar data.\n",
    "\n",
    "You can find more information about lidarwind at: https://lidarwind.readthedocs.io/"
   ]
  },
  {
   "cell_type": "markdown",
   "metadata": {},
   "source": [
    "## Steps:\n",
    "\n",
    " 1. Dependence installation\n",
    " 2. Importing the required packages\n",
    " 3. Defining useful functions\n",
    " 4. Getting sample data\n",
    " 5. Retrieving wind\n",
    " 6. Visualising the results"
   ]
  },
  {
   "cell_type": "markdown",
   "metadata": {},
   "source": [
    "## Step 1: Dependence installation"
   ]
  },
  {
   "cell_type": "markdown",
   "metadata": {
    "id": "ya1i4OsxsEC_"
   },
   "source": [
    "The cell below installs an additional package required by lidarwind."
   ]
  },
  {
   "cell_type": "code",
   "execution_count": 1,
   "metadata": {
    "colab": {
     "base_uri": "https://localhost:8080/"
    },
    "executionInfo": {
     "elapsed": 20632,
     "status": "ok",
     "timestamp": 1718263461285,
     "user": {
      "displayName": "Christine Unal",
      "userId": "02384359149360931920"
     },
     "user_tz": -120
    },
    "id": "MqItOU3p29sg",
    "outputId": "d8998c19-8541-460f-90e5-8b2e9353e4bc",
    "scrolled": true
   },
   "outputs": [
    {
     "name": "stdout",
     "output_type": "stream",
     "text": [
      "Requirement already satisfied: xarray-datatree==0.0.11 in /Users/jdiasneto/miniforge3/envs/rpg_post/lib/python3.10/site-packages (0.0.11)\n",
      "Requirement already satisfied: xarray>=2022.6.0 in /Users/jdiasneto/miniforge3/envs/rpg_post/lib/python3.10/site-packages (from xarray-datatree==0.0.11) (2024.3.0)\n",
      "Requirement already satisfied: numpy>=1.23 in /Users/jdiasneto/miniforge3/envs/rpg_post/lib/python3.10/site-packages (from xarray>=2022.6.0->xarray-datatree==0.0.11) (1.26.4)\n",
      "Requirement already satisfied: packaging>=22 in /Users/jdiasneto/miniforge3/envs/rpg_post/lib/python3.10/site-packages (from xarray>=2022.6.0->xarray-datatree==0.0.11) (24.0)\n",
      "Requirement already satisfied: pandas>=1.5 in /Users/jdiasneto/miniforge3/envs/rpg_post/lib/python3.10/site-packages (from xarray>=2022.6.0->xarray-datatree==0.0.11) (2.2.2)\n",
      "Requirement already satisfied: python-dateutil>=2.8.2 in /Users/jdiasneto/miniforge3/envs/rpg_post/lib/python3.10/site-packages (from pandas>=1.5->xarray>=2022.6.0->xarray-datatree==0.0.11) (2.9.0)\n",
      "Requirement already satisfied: pytz>=2020.1 in /Users/jdiasneto/miniforge3/envs/rpg_post/lib/python3.10/site-packages (from pandas>=1.5->xarray>=2022.6.0->xarray-datatree==0.0.11) (2024.1)\n",
      "Requirement already satisfied: tzdata>=2022.7 in /Users/jdiasneto/miniforge3/envs/rpg_post/lib/python3.10/site-packages (from pandas>=1.5->xarray>=2022.6.0->xarray-datatree==0.0.11) (2024.1)\n",
      "Requirement already satisfied: six>=1.5 in /Users/jdiasneto/miniforge3/envs/rpg_post/lib/python3.10/site-packages (from python-dateutil>=2.8.2->pandas>=1.5->xarray>=2022.6.0->xarray-datatree==0.0.11) (1.16.0)\n",
      "Note: you may need to restart the kernel to use updated packages.\n"
     ]
    }
   ],
   "source": [
    "pip install xarray-datatree==0.0.11"
   ]
  },
  {
   "cell_type": "markdown",
   "metadata": {},
   "source": [
    "**ATTENTION:** \n",
    "\n",
    "After executing the previous cell, you may need to restart the kernel in case you get an error message. It is a temporary solution.\n"
   ]
  },
  {
   "cell_type": "markdown",
   "metadata": {},
   "source": [
    "## Step 2: Importing required packages"
   ]
  },
  {
   "cell_type": "markdown",
   "metadata": {},
   "source": [
    "Here, we import some basic packages usefull for processing the sample data. Later, lidarwind is also imported and its versions is checked; it should be greater or equal to 0.2.4. After, the RPG related modules are also imported. "
   ]
  },
  {
   "cell_type": "code",
   "execution_count": 2,
   "metadata": {
    "colab": {
     "base_uri": "https://localhost:8080/",
     "height": 76
    },
    "executionInfo": {
     "elapsed": 5794,
     "status": "ok",
     "timestamp": 1718263486992,
     "user": {
      "displayName": "Christine Unal",
      "userId": "02384359149360931920"
     },
     "user_tz": -120
    },
    "id": "WBio5B-AvloE",
    "outputId": "204c3c1e-eea3-4d2b-91bd-e2d59d6552b4",
    "scrolled": true
   },
   "outputs": [],
   "source": [
    "# genneral imports\n",
    "import pooch\n",
    "\n",
    "import xarray as xr\n",
    "import matplotlib.pyplot as plt"
   ]
  },
  {
   "cell_type": "code",
   "execution_count": 3,
   "metadata": {
    "colab": {
     "base_uri": "https://localhost:8080/"
    },
    "executionInfo": {
     "elapsed": 1706,
     "status": "ok",
     "timestamp": 1718263500227,
     "user": {
      "displayName": "Christine Unal",
      "userId": "02384359149360931920"
     },
     "user_tz": -120
    },
    "id": "i2WDSg8Sr5H1",
    "outputId": "bec445f3-bb0b-4f01-94cf-82985ac51aab"
   },
   "outputs": [
    {
     "name": "stdout",
     "output_type": "stream",
     "text": [
      "lidarwind version: 0.2.5.dev27+gd45b3ff.d20240702\n"
     ]
    }
   ],
   "source": [
    "# importing the data processing package\n",
    "import lidarwind\n",
    "\n",
    "# checking if the version of lidarwind\n",
    "# it should be equal or greater than 0.2.4\n",
    "print(f\"lidarwind version: {lidarwind.__version__}\")"
   ]
  },
  {
   "cell_type": "code",
   "execution_count": 4,
   "metadata": {
    "colab": {
     "base_uri": "https://localhost:8080/"
    },
    "executionInfo": {
     "elapsed": 1706,
     "status": "ok",
     "timestamp": 1718263500227,
     "user": {
      "displayName": "Christine Unal",
      "userId": "02384359149360931920"
     },
     "user_tz": -120
    },
    "id": "i2WDSg8Sr5H1",
    "outputId": "bec445f3-bb0b-4f01-94cf-82985ac51aab"
   },
   "outputs": [],
   "source": [
    "# importing the rpg radar related modules\n",
    "from lidarwind.preprocessing import rpg_radar\n",
    "from lidarwind.postprocessing import post_rpg_radar"
   ]
  },
  {
   "cell_type": "markdown",
   "metadata": {},
   "source": [
    "## Step 3: Defining the processing function"
   ]
  },
  {
   "cell_type": "markdown",
   "metadata": {},
   "source": [
    "The following is in charge of the main process. Here, the individual PPI files are open and the profiles are retrieved."
   ]
  },
  {
   "cell_type": "code",
   "execution_count": 5,
   "metadata": {
    "executionInfo": {
     "elapsed": 294,
     "status": "ok",
     "timestamp": 1718263584770,
     "user": {
      "displayName": "Christine Unal",
      "userId": "02384359149360931920"
     },
     "user_tz": -120
    },
    "id": "kN6o_1BqtpCc"
   },
   "outputs": [],
   "source": [
    "def process_one_file(file_name):\n",
    "    \"\"\"\n",
    "    Function to process a single radar file\n",
    "    \"\"\"\n",
    "\n",
    "    ds = xr.open_dataset(file_name)\n",
    "    ds = rpg_radar.rpg_slanted_radial_velocity_4_fft(ds)\n",
    "    tmp_wind = post_rpg_radar.get_horizontal_wind(ds)\n",
    "\n",
    "    return tmp_wind"
   ]
  },
  {
   "cell_type": "markdown",
   "metadata": {},
   "source": [
    "## Step 4: Getting sample data"
   ]
  },
  {
   "cell_type": "markdown",
   "metadata": {},
   "source": [
    "In this step, we download a sample dataset needed for this example and create a list of all downloaded files. "
   ]
  },
  {
   "cell_type": "code",
   "execution_count": 6,
   "metadata": {},
   "outputs": [],
   "source": [
    "file_list = pooch.retrieve(\n",
    "    url=\"doi:10.5281/zenodo.7312960/rpg_sample_ppi.zip\",\n",
    "    known_hash=\"md5:952f7b50985cc8623933fbc18f72fd73\",\n",
    "    path=\"tmp_data\",\n",
    "    processor=pooch.Unzip(),\n",
    "        )\n",
    "\n",
    "file_list = sorted(file_list)"
   ]
  },
  {
   "cell_type": "markdown",
   "metadata": {},
   "source": [
    "## Step 5: Retrieving wind"
   ]
  },
  {
   "cell_type": "markdown",
   "metadata": {},
   "source": [
    "In this step, the function defined in Step 3 to process the sample files is applied to the file_list defined in Step 4. "
   ]
  },
  {
   "cell_type": "code",
   "execution_count": 7,
   "metadata": {
    "colab": {
     "base_uri": "https://localhost:8080/"
    },
    "executionInfo": {
     "elapsed": 114519,
     "status": "ok",
     "timestamp": 1718263884825,
     "user": {
      "displayName": "Christine Unal",
      "userId": "02384359149360931920"
     },
     "user_tz": -120
    },
    "id": "6bgbXMvjt31a",
    "outputId": "06a23e39-684e-41cb-a4af-c48ea34c01c0"
   },
   "outputs": [
    {
     "name": "stdout",
     "output_type": "stream",
     "text": [
      "CPU times: user 51.5 s, sys: 1.33 s, total: 52.9 s\n",
      "Wall time: 1min\n"
     ]
    }
   ],
   "source": [
    "%%time\n",
    "\n",
    "# running the function over the selected files\n",
    "wind_ds = xr.merge([process_one_file(f) for f in file_list])"
   ]
  },
  {
   "cell_type": "markdown",
   "metadata": {},
   "source": [
    "## Step 6: Visualising the results"
   ]
  },
  {
   "cell_type": "markdown",
   "metadata": {},
   "source": [
    "Finally, in this step, we first have a look at the wind dataset structure and later have a loot at some variables."
   ]
  },
  {
   "cell_type": "code",
   "execution_count": 8,
   "metadata": {
    "colab": {
     "base_uri": "https://localhost:8080/",
     "height": 564
    },
    "executionInfo": {
     "elapsed": 681,
     "status": "ok",
     "timestamp": 1718263904959,
     "user": {
      "displayName": "Christine Unal",
      "userId": "02384359149360931920"
     },
     "user_tz": -120
    },
    "id": "GPOmtydDBulj",
    "outputId": "a140d206-7350-4f85-c037-a68487e40676"
   },
   "outputs": [
    {
     "data": {
      "text/html": [
       "<div><svg style=\"position: absolute; width: 0; height: 0; overflow: hidden\">\n",
       "<defs>\n",
       "<symbol id=\"icon-database\" viewBox=\"0 0 32 32\">\n",
       "<path d=\"M16 0c-8.837 0-16 2.239-16 5v4c0 2.761 7.163 5 16 5s16-2.239 16-5v-4c0-2.761-7.163-5-16-5z\"></path>\n",
       "<path d=\"M16 17c-8.837 0-16-2.239-16-5v6c0 2.761 7.163 5 16 5s16-2.239 16-5v-6c0 2.761-7.163 5-16 5z\"></path>\n",
       "<path d=\"M16 26c-8.837 0-16-2.239-16-5v6c0 2.761 7.163 5 16 5s16-2.239 16-5v-6c0 2.761-7.163 5-16 5z\"></path>\n",
       "</symbol>\n",
       "<symbol id=\"icon-file-text2\" viewBox=\"0 0 32 32\">\n",
       "<path d=\"M28.681 7.159c-0.694-0.947-1.662-2.053-2.724-3.116s-2.169-2.030-3.116-2.724c-1.612-1.182-2.393-1.319-2.841-1.319h-15.5c-1.378 0-2.5 1.121-2.5 2.5v27c0 1.378 1.122 2.5 2.5 2.5h23c1.378 0 2.5-1.122 2.5-2.5v-19.5c0-0.448-0.137-1.23-1.319-2.841zM24.543 5.457c0.959 0.959 1.712 1.825 2.268 2.543h-4.811v-4.811c0.718 0.556 1.584 1.309 2.543 2.268zM28 29.5c0 0.271-0.229 0.5-0.5 0.5h-23c-0.271 0-0.5-0.229-0.5-0.5v-27c0-0.271 0.229-0.5 0.5-0.5 0 0 15.499-0 15.5 0v7c0 0.552 0.448 1 1 1h7v19.5z\"></path>\n",
       "<path d=\"M23 26h-14c-0.552 0-1-0.448-1-1s0.448-1 1-1h14c0.552 0 1 0.448 1 1s-0.448 1-1 1z\"></path>\n",
       "<path d=\"M23 22h-14c-0.552 0-1-0.448-1-1s0.448-1 1-1h14c0.552 0 1 0.448 1 1s-0.448 1-1 1z\"></path>\n",
       "<path d=\"M23 18h-14c-0.552 0-1-0.448-1-1s0.448-1 1-1h14c0.552 0 1 0.448 1 1s-0.448 1-1 1z\"></path>\n",
       "</symbol>\n",
       "</defs>\n",
       "</svg>\n",
       "<style>/* CSS stylesheet for displaying xarray objects in jupyterlab.\n",
       " *\n",
       " */\n",
       "\n",
       ":root {\n",
       "  --xr-font-color0: var(--jp-content-font-color0, rgba(0, 0, 0, 1));\n",
       "  --xr-font-color2: var(--jp-content-font-color2, rgba(0, 0, 0, 0.54));\n",
       "  --xr-font-color3: var(--jp-content-font-color3, rgba(0, 0, 0, 0.38));\n",
       "  --xr-border-color: var(--jp-border-color2, #e0e0e0);\n",
       "  --xr-disabled-color: var(--jp-layout-color3, #bdbdbd);\n",
       "  --xr-background-color: var(--jp-layout-color0, white);\n",
       "  --xr-background-color-row-even: var(--jp-layout-color1, white);\n",
       "  --xr-background-color-row-odd: var(--jp-layout-color2, #eeeeee);\n",
       "}\n",
       "\n",
       "html[theme=dark],\n",
       "body[data-theme=dark],\n",
       "body.vscode-dark {\n",
       "  --xr-font-color0: rgba(255, 255, 255, 1);\n",
       "  --xr-font-color2: rgba(255, 255, 255, 0.54);\n",
       "  --xr-font-color3: rgba(255, 255, 255, 0.38);\n",
       "  --xr-border-color: #1F1F1F;\n",
       "  --xr-disabled-color: #515151;\n",
       "  --xr-background-color: #111111;\n",
       "  --xr-background-color-row-even: #111111;\n",
       "  --xr-background-color-row-odd: #313131;\n",
       "}\n",
       "\n",
       ".xr-wrap {\n",
       "  display: block !important;\n",
       "  min-width: 300px;\n",
       "  max-width: 700px;\n",
       "}\n",
       "\n",
       ".xr-text-repr-fallback {\n",
       "  /* fallback to plain text repr when CSS is not injected (untrusted notebook) */\n",
       "  display: none;\n",
       "}\n",
       "\n",
       ".xr-header {\n",
       "  padding-top: 6px;\n",
       "  padding-bottom: 6px;\n",
       "  margin-bottom: 4px;\n",
       "  border-bottom: solid 1px var(--xr-border-color);\n",
       "}\n",
       "\n",
       ".xr-header > div,\n",
       ".xr-header > ul {\n",
       "  display: inline;\n",
       "  margin-top: 0;\n",
       "  margin-bottom: 0;\n",
       "}\n",
       "\n",
       ".xr-obj-type,\n",
       ".xr-array-name {\n",
       "  margin-left: 2px;\n",
       "  margin-right: 10px;\n",
       "}\n",
       "\n",
       ".xr-obj-type {\n",
       "  color: var(--xr-font-color2);\n",
       "}\n",
       "\n",
       ".xr-sections {\n",
       "  padding-left: 0 !important;\n",
       "  display: grid;\n",
       "  grid-template-columns: 150px auto auto 1fr 20px 20px;\n",
       "}\n",
       "\n",
       ".xr-section-item {\n",
       "  display: contents;\n",
       "}\n",
       "\n",
       ".xr-section-item input {\n",
       "  display: none;\n",
       "}\n",
       "\n",
       ".xr-section-item input + label {\n",
       "  color: var(--xr-disabled-color);\n",
       "}\n",
       "\n",
       ".xr-section-item input:enabled + label {\n",
       "  cursor: pointer;\n",
       "  color: var(--xr-font-color2);\n",
       "}\n",
       "\n",
       ".xr-section-item input:enabled + label:hover {\n",
       "  color: var(--xr-font-color0);\n",
       "}\n",
       "\n",
       ".xr-section-summary {\n",
       "  grid-column: 1;\n",
       "  color: var(--xr-font-color2);\n",
       "  font-weight: 500;\n",
       "}\n",
       "\n",
       ".xr-section-summary > span {\n",
       "  display: inline-block;\n",
       "  padding-left: 0.5em;\n",
       "}\n",
       "\n",
       ".xr-section-summary-in:disabled + label {\n",
       "  color: var(--xr-font-color2);\n",
       "}\n",
       "\n",
       ".xr-section-summary-in + label:before {\n",
       "  display: inline-block;\n",
       "  content: '►';\n",
       "  font-size: 11px;\n",
       "  width: 15px;\n",
       "  text-align: center;\n",
       "}\n",
       "\n",
       ".xr-section-summary-in:disabled + label:before {\n",
       "  color: var(--xr-disabled-color);\n",
       "}\n",
       "\n",
       ".xr-section-summary-in:checked + label:before {\n",
       "  content: '▼';\n",
       "}\n",
       "\n",
       ".xr-section-summary-in:checked + label > span {\n",
       "  display: none;\n",
       "}\n",
       "\n",
       ".xr-section-summary,\n",
       ".xr-section-inline-details {\n",
       "  padding-top: 4px;\n",
       "  padding-bottom: 4px;\n",
       "}\n",
       "\n",
       ".xr-section-inline-details {\n",
       "  grid-column: 2 / -1;\n",
       "}\n",
       "\n",
       ".xr-section-details {\n",
       "  display: none;\n",
       "  grid-column: 1 / -1;\n",
       "  margin-bottom: 5px;\n",
       "}\n",
       "\n",
       ".xr-section-summary-in:checked ~ .xr-section-details {\n",
       "  display: contents;\n",
       "}\n",
       "\n",
       ".xr-array-wrap {\n",
       "  grid-column: 1 / -1;\n",
       "  display: grid;\n",
       "  grid-template-columns: 20px auto;\n",
       "}\n",
       "\n",
       ".xr-array-wrap > label {\n",
       "  grid-column: 1;\n",
       "  vertical-align: top;\n",
       "}\n",
       "\n",
       ".xr-preview {\n",
       "  color: var(--xr-font-color3);\n",
       "}\n",
       "\n",
       ".xr-array-preview,\n",
       ".xr-array-data {\n",
       "  padding: 0 5px !important;\n",
       "  grid-column: 2;\n",
       "}\n",
       "\n",
       ".xr-array-data,\n",
       ".xr-array-in:checked ~ .xr-array-preview {\n",
       "  display: none;\n",
       "}\n",
       "\n",
       ".xr-array-in:checked ~ .xr-array-data,\n",
       ".xr-array-preview {\n",
       "  display: inline-block;\n",
       "}\n",
       "\n",
       ".xr-dim-list {\n",
       "  display: inline-block !important;\n",
       "  list-style: none;\n",
       "  padding: 0 !important;\n",
       "  margin: 0;\n",
       "}\n",
       "\n",
       ".xr-dim-list li {\n",
       "  display: inline-block;\n",
       "  padding: 0;\n",
       "  margin: 0;\n",
       "}\n",
       "\n",
       ".xr-dim-list:before {\n",
       "  content: '(';\n",
       "}\n",
       "\n",
       ".xr-dim-list:after {\n",
       "  content: ')';\n",
       "}\n",
       "\n",
       ".xr-dim-list li:not(:last-child):after {\n",
       "  content: ',';\n",
       "  padding-right: 5px;\n",
       "}\n",
       "\n",
       ".xr-has-index {\n",
       "  font-weight: bold;\n",
       "}\n",
       "\n",
       ".xr-var-list,\n",
       ".xr-var-item {\n",
       "  display: contents;\n",
       "}\n",
       "\n",
       ".xr-var-item > div,\n",
       ".xr-var-item label,\n",
       ".xr-var-item > .xr-var-name span {\n",
       "  background-color: var(--xr-background-color-row-even);\n",
       "  margin-bottom: 0;\n",
       "}\n",
       "\n",
       ".xr-var-item > .xr-var-name:hover span {\n",
       "  padding-right: 5px;\n",
       "}\n",
       "\n",
       ".xr-var-list > li:nth-child(odd) > div,\n",
       ".xr-var-list > li:nth-child(odd) > label,\n",
       ".xr-var-list > li:nth-child(odd) > .xr-var-name span {\n",
       "  background-color: var(--xr-background-color-row-odd);\n",
       "}\n",
       "\n",
       ".xr-var-name {\n",
       "  grid-column: 1;\n",
       "}\n",
       "\n",
       ".xr-var-dims {\n",
       "  grid-column: 2;\n",
       "}\n",
       "\n",
       ".xr-var-dtype {\n",
       "  grid-column: 3;\n",
       "  text-align: right;\n",
       "  color: var(--xr-font-color2);\n",
       "}\n",
       "\n",
       ".xr-var-preview {\n",
       "  grid-column: 4;\n",
       "}\n",
       "\n",
       ".xr-index-preview {\n",
       "  grid-column: 2 / 5;\n",
       "  color: var(--xr-font-color2);\n",
       "}\n",
       "\n",
       ".xr-var-name,\n",
       ".xr-var-dims,\n",
       ".xr-var-dtype,\n",
       ".xr-preview,\n",
       ".xr-attrs dt {\n",
       "  white-space: nowrap;\n",
       "  overflow: hidden;\n",
       "  text-overflow: ellipsis;\n",
       "  padding-right: 10px;\n",
       "}\n",
       "\n",
       ".xr-var-name:hover,\n",
       ".xr-var-dims:hover,\n",
       ".xr-var-dtype:hover,\n",
       ".xr-attrs dt:hover {\n",
       "  overflow: visible;\n",
       "  width: auto;\n",
       "  z-index: 1;\n",
       "}\n",
       "\n",
       ".xr-var-attrs,\n",
       ".xr-var-data,\n",
       ".xr-index-data {\n",
       "  display: none;\n",
       "  background-color: var(--xr-background-color) !important;\n",
       "  padding-bottom: 5px !important;\n",
       "}\n",
       "\n",
       ".xr-var-attrs-in:checked ~ .xr-var-attrs,\n",
       ".xr-var-data-in:checked ~ .xr-var-data,\n",
       ".xr-index-data-in:checked ~ .xr-index-data {\n",
       "  display: block;\n",
       "}\n",
       "\n",
       ".xr-var-data > table {\n",
       "  float: right;\n",
       "}\n",
       "\n",
       ".xr-var-name span,\n",
       ".xr-var-data,\n",
       ".xr-index-name div,\n",
       ".xr-index-data,\n",
       ".xr-attrs {\n",
       "  padding-left: 25px !important;\n",
       "}\n",
       "\n",
       ".xr-attrs,\n",
       ".xr-var-attrs,\n",
       ".xr-var-data,\n",
       ".xr-index-data {\n",
       "  grid-column: 1 / -1;\n",
       "}\n",
       "\n",
       "dl.xr-attrs {\n",
       "  padding: 0;\n",
       "  margin: 0;\n",
       "  display: grid;\n",
       "  grid-template-columns: 125px auto;\n",
       "}\n",
       "\n",
       ".xr-attrs dt,\n",
       ".xr-attrs dd {\n",
       "  padding: 0;\n",
       "  margin: 0;\n",
       "  float: left;\n",
       "  padding-right: 10px;\n",
       "  width: auto;\n",
       "}\n",
       "\n",
       ".xr-attrs dt {\n",
       "  font-weight: normal;\n",
       "  grid-column: 1;\n",
       "}\n",
       "\n",
       ".xr-attrs dt:hover span {\n",
       "  display: inline-block;\n",
       "  background: var(--xr-background-color);\n",
       "  padding-right: 10px;\n",
       "}\n",
       "\n",
       ".xr-attrs dd {\n",
       "  grid-column: 2;\n",
       "  white-space: pre-wrap;\n",
       "  word-break: break-all;\n",
       "}\n",
       "\n",
       ".xr-icon-database,\n",
       ".xr-icon-file-text2,\n",
       ".xr-no-icon {\n",
       "  display: inline-block;\n",
       "  vertical-align: middle;\n",
       "  width: 1em;\n",
       "  height: 1.5em !important;\n",
       "  stroke-width: 0;\n",
       "  stroke: currentColor;\n",
       "  fill: currentColor;\n",
       "}\n",
       "</style><pre class='xr-text-repr-fallback'>&lt;xarray.Dataset&gt; Size: 631kB\n",
       "Dimensions:                    (range: 339, chirp: 3, mean_time: 42)\n",
       "Coordinates:\n",
       "  * range                      (range) float32 1kB 108.0 129.6 ... 1.157e+04\n",
       "  * chirp                      (chirp) int64 24B 1 2 3\n",
       "  * mean_time                  (mean_time) datetime64[ns] 336B 2022-05-17T10:...\n",
       "    elevation                  float32 4B 74.99\n",
       "    freq_azimuth               float64 8B 0.002778\n",
       "    azimuth_length             int64 8B 72\n",
       "Data variables:\n",
       "    horizontal_wind_direction  (mean_time, range) float64 114kB 82.05 ... nan\n",
       "    horizontal_wind_speed      (mean_time, range) float64 114kB 4.536 ... nan\n",
       "    meridional_wind            (mean_time, range) float64 114kB -0.6275 ... nan\n",
       "    zonal_wind                 (mean_time, range) float64 114kB 4.493 ... nan\n",
       "    start_scan                 (mean_time) datetime64[ns] 336B 2022-05-17T10:...\n",
       "    end_scan                   (mean_time) datetime64[ns] 336B 2022-05-17T10:...\n",
       "    zdr_max                    (mean_time, range) float32 57kB 5.533 ... nan\n",
       "    nan_percentual             (mean_time, range) float64 114kB 0.0 ... 100.0\n",
       "    chirp_start                (mean_time, chirp) float32 504B 111.8 ... 2.03...\n",
       "    chirp_end                  (mean_time, chirp) float32 504B 581.3 ... 1.19...\n",
       "    chirp_azimuth_bias         (mean_time, chirp) float64 1kB 0.0 0.0 ... 0.0\n",
       "    azm_seq                    (mean_time) float64 336B 1.0 -1.0 ... 1.0 -1.0</pre><div class='xr-wrap' style='display:none'><div class='xr-header'><div class='xr-obj-type'>xarray.Dataset</div></div><ul class='xr-sections'><li class='xr-section-item'><input id='section-1f9d146e-ad26-4a68-9418-a76e10afead1' class='xr-section-summary-in' type='checkbox' disabled ><label for='section-1f9d146e-ad26-4a68-9418-a76e10afead1' class='xr-section-summary'  title='Expand/collapse section'>Dimensions:</label><div class='xr-section-inline-details'><ul class='xr-dim-list'><li><span class='xr-has-index'>range</span>: 339</li><li><span class='xr-has-index'>chirp</span>: 3</li><li><span class='xr-has-index'>mean_time</span>: 42</li></ul></div><div class='xr-section-details'></div></li><li class='xr-section-item'><input id='section-1e97ab3c-307e-472a-9afc-690d65207992' class='xr-section-summary-in' type='checkbox'  checked><label for='section-1e97ab3c-307e-472a-9afc-690d65207992' class='xr-section-summary' >Coordinates: <span>(6)</span></label><div class='xr-section-inline-details'></div><div class='xr-section-details'><ul class='xr-var-list'><li class='xr-var-item'><div class='xr-var-name'><span class='xr-has-index'>range</span></div><div class='xr-var-dims'>(range)</div><div class='xr-var-dtype'>float32</div><div class='xr-var-preview xr-preview'>108.0 129.6 ... 1.153e+04 1.157e+04</div><input id='attrs-9e4578f2-edfd-4dd9-8828-50d3b01ed1e0' class='xr-var-attrs-in' type='checkbox' ><label for='attrs-9e4578f2-edfd-4dd9-8828-50d3b01ed1e0' title='Show/Hide attributes'><svg class='icon xr-icon-file-text2'><use xlink:href='#icon-file-text2'></use></svg></label><input id='data-f603f07a-c3fa-49d9-90df-7f285d1781be' class='xr-var-data-in' type='checkbox'><label for='data-f603f07a-c3fa-49d9-90df-7f285d1781be' title='Show/Hide data repr'><svg class='icon xr-icon-database'><use xlink:href='#icon-database'></use></svg></label><div class='xr-var-attrs'><dl class='xr-attrs'><dt><span>units :</span></dt><dd>m</dd><dt><span>name :</span></dt><dd>range</dd><dt><span>comment :</span></dt><dd>height estimated from the original range and elevation</dd></dl></div><div class='xr-var-data'><pre>array([  107.98101,   129.57721,   151.1734 , ..., 11493.517  , 11529.889  ,\n",
       "       11566.26   ], dtype=float32)</pre></div></li><li class='xr-var-item'><div class='xr-var-name'><span class='xr-has-index'>chirp</span></div><div class='xr-var-dims'>(chirp)</div><div class='xr-var-dtype'>int64</div><div class='xr-var-preview xr-preview'>1 2 3</div><input id='attrs-e093ba8d-7f5a-4d69-adf2-2468cd40d3f4' class='xr-var-attrs-in' type='checkbox' disabled><label for='attrs-e093ba8d-7f5a-4d69-adf2-2468cd40d3f4' title='Show/Hide attributes'><svg class='icon xr-icon-file-text2'><use xlink:href='#icon-file-text2'></use></svg></label><input id='data-4a0d63e3-81bf-4de6-988e-49b151416284' class='xr-var-data-in' type='checkbox'><label for='data-4a0d63e3-81bf-4de6-988e-49b151416284' title='Show/Hide data repr'><svg class='icon xr-icon-database'><use xlink:href='#icon-database'></use></svg></label><div class='xr-var-attrs'><dl class='xr-attrs'></dl></div><div class='xr-var-data'><pre>array([1, 2, 3])</pre></div></li><li class='xr-var-item'><div class='xr-var-name'><span class='xr-has-index'>mean_time</span></div><div class='xr-var-dims'>(mean_time)</div><div class='xr-var-dtype'>datetime64[ns]</div><div class='xr-var-preview xr-preview'>2022-05-17T10:01:35.830779220 .....</div><input id='attrs-db74fc96-b0be-4285-b980-c90ae14bd471' class='xr-var-attrs-in' type='checkbox' ><label for='attrs-db74fc96-b0be-4285-b980-c90ae14bd471' title='Show/Hide attributes'><svg class='icon xr-icon-file-text2'><use xlink:href='#icon-file-text2'></use></svg></label><input id='data-f2739f05-9998-4cb3-90f5-ab6d9d67b6e7' class='xr-var-data-in' type='checkbox'><label for='data-f2739f05-9998-4cb3-90f5-ab6d9d67b6e7' title='Show/Hide data repr'><svg class='icon xr-icon-database'><use xlink:href='#icon-database'></use></svg></label><div class='xr-var-attrs'><dl class='xr-attrs'><dt><span>comment :</span></dt><dd>mean time (seconds) from each PPI scan</dd></dl></div><div class='xr-var-data'><pre>array([&#x27;2022-05-17T10:01:35.830779220&#x27;, &#x27;2022-05-17T10:03:00.880759493&#x27;,\n",
       "       &#x27;2022-05-17T10:04:26.918101265&#x27;, &#x27;2022-05-17T10:05:53.443717948&#x27;,\n",
       "       &#x27;2022-05-17T10:07:19.483846153&#x27;, &#x27;2022-05-17T10:08:51.280384615&#x27;,\n",
       "       &#x27;2022-05-17T10:10:18.800129870&#x27;, &#x27;2022-05-17T10:11:44.335217949&#x27;,\n",
       "       &#x27;2022-05-17T10:13:09.879831166&#x27;, &#x27;2022-05-17T10:14:35.415999993&#x27;,\n",
       "       &#x27;2022-05-17T10:16:00.958662340&#x27;, &#x27;2022-05-17T10:17:26.000480516&#x27;,\n",
       "       &#x27;2022-05-17T10:18:51.040480510&#x27;, &#x27;2022-05-17T10:20:16.576000003&#x27;,\n",
       "       &#x27;2022-05-17T10:21:41.613307693&#x27;, &#x27;2022-05-17T10:23:07.645871786&#x27;,\n",
       "       &#x27;2022-05-17T10:24:33.182886075&#x27;, &#x27;2022-05-17T10:26:05.461358974&#x27;,\n",
       "       &#x27;2022-05-17T10:27:31.496230769&#x27;, &#x27;2022-05-17T10:28:57.029662337&#x27;,\n",
       "       &#x27;2022-05-17T10:30:22.080831168&#x27;, &#x27;2022-05-17T10:31:47.616230769&#x27;,\n",
       "       &#x27;2022-05-17T10:33:13.646615384&#x27;, &#x27;2022-05-17T10:34:39.686358974&#x27;,\n",
       "       &#x27;2022-05-17T10:36:05.727000004&#x27;, &#x27;2022-05-17T10:37:31.261481008&#x27;,\n",
       "       &#x27;2022-05-17T10:38:57.786205131&#x27;, &#x27;2022-05-17T10:40:23.321831176&#x27;,\n",
       "       &#x27;2022-05-17T10:41:47.865307693&#x27;, &#x27;2022-05-17T10:43:19.652743591&#x27;,\n",
       "       &#x27;2022-05-17T10:44:45.691717948&#x27;, &#x27;2022-05-17T10:46:11.727615384&#x27;,\n",
       "       &#x27;2022-05-17T10:47:37.768358974&#x27;, &#x27;2022-05-17T10:49:02.806307692&#x27;,\n",
       "       &#x27;2022-05-17T10:50:28.838871794&#x27;, &#x27;2022-05-17T10:51:53.877717948&#x27;,\n",
       "       &#x27;2022-05-17T10:53:19.907076923&#x27;, &#x27;2022-05-17T10:54:45.441721518&#x27;,\n",
       "       &#x27;2022-05-17T10:56:11.471662337&#x27;, &#x27;2022-05-17T10:57:36.511662337&#x27;,\n",
       "       &#x27;2022-05-17T10:59:02.047807698&#x27;, &#x27;2022-05-17T11:00:33.718896101&#x27;],\n",
       "      dtype=&#x27;datetime64[ns]&#x27;)</pre></div></li><li class='xr-var-item'><div class='xr-var-name'><span>elevation</span></div><div class='xr-var-dims'>()</div><div class='xr-var-dtype'>float32</div><div class='xr-var-preview xr-preview'>74.99</div><input id='attrs-43219aa1-9303-4bcf-985e-5d322531fb1e' class='xr-var-attrs-in' type='checkbox' ><label for='attrs-43219aa1-9303-4bcf-985e-5d322531fb1e' title='Show/Hide attributes'><svg class='icon xr-icon-file-text2'><use xlink:href='#icon-file-text2'></use></svg></label><input id='data-6993f56f-2e08-4c65-be85-d4d88f09bcf6' class='xr-var-data-in' type='checkbox'><label for='data-6993f56f-2e08-4c65-be85-d4d88f09bcf6' title='Show/Hide data repr'><svg class='icon xr-icon-database'><use xlink:href='#icon-database'></use></svg></label><div class='xr-var-attrs'><dl class='xr-attrs'><dt><span>Name :</span></dt><dd>Elevation</dd><dt><span>Units :</span></dt><dd>deg</dd></dl></div><div class='xr-var-data'><pre>array(74.99, dtype=float32)</pre></div></li><li class='xr-var-item'><div class='xr-var-name'><span>freq_azimuth</span></div><div class='xr-var-dims'>()</div><div class='xr-var-dtype'>float64</div><div class='xr-var-preview xr-preview'>0.002778</div><input id='attrs-1387d2e0-c4cc-4b6d-804d-ff9ede9ddebb' class='xr-var-attrs-in' type='checkbox' ><label for='attrs-1387d2e0-c4cc-4b6d-804d-ff9ede9ddebb' title='Show/Hide attributes'><svg class='icon xr-icon-file-text2'><use xlink:href='#icon-file-text2'></use></svg></label><input id='data-27817686-73c1-4bc5-bdf8-461011fe1982' class='xr-var-data-in' type='checkbox'><label for='data-27817686-73c1-4bc5-bdf8-461011fe1982' title='Show/Hide data repr'><svg class='icon xr-icon-database'><use xlink:href='#icon-database'></use></svg></label><div class='xr-var-attrs'><dl class='xr-attrs'><dt><span>spacing :</span></dt><dd>0.002777777777777782</dd><dt><span>direct_lag :</span></dt><dd>180</dd></dl></div><div class='xr-var-data'><pre>array(0.00277778)</pre></div></li><li class='xr-var-item'><div class='xr-var-name'><span>azimuth_length</span></div><div class='xr-var-dims'>()</div><div class='xr-var-dtype'>int64</div><div class='xr-var-preview xr-preview'>72</div><input id='attrs-847d7fae-e619-4976-9489-dff5d4588334' class='xr-var-attrs-in' type='checkbox' ><label for='attrs-847d7fae-e619-4976-9489-dff5d4588334' title='Show/Hide attributes'><svg class='icon xr-icon-file-text2'><use xlink:href='#icon-file-text2'></use></svg></label><input id='data-27045c48-9233-40f8-8fd1-a5df5dc279d2' class='xr-var-data-in' type='checkbox'><label for='data-27045c48-9233-40f8-8fd1-a5df5dc279d2' title='Show/Hide data repr'><svg class='icon xr-icon-database'><use xlink:href='#icon-database'></use></svg></label><div class='xr-var-attrs'><dl class='xr-attrs'><dt><span>comment :</span></dt><dd>size of the azimuth coordinate</dd></dl></div><div class='xr-var-data'><pre>array(72)</pre></div></li></ul></div></li><li class='xr-section-item'><input id='section-e335a2f3-ee92-4864-b673-935ed636ce4f' class='xr-section-summary-in' type='checkbox'  checked><label for='section-e335a2f3-ee92-4864-b673-935ed636ce4f' class='xr-section-summary' >Data variables: <span>(12)</span></label><div class='xr-section-inline-details'></div><div class='xr-section-details'><ul class='xr-var-list'><li class='xr-var-item'><div class='xr-var-name'><span>horizontal_wind_direction</span></div><div class='xr-var-dims'>(mean_time, range)</div><div class='xr-var-dtype'>float64</div><div class='xr-var-preview xr-preview'>82.05 79.69 87.19 ... nan nan nan</div><input id='attrs-0e400a5b-0b1d-4c0f-b681-c1a7ed0739ee' class='xr-var-attrs-in' type='checkbox' ><label for='attrs-0e400a5b-0b1d-4c0f-b681-c1a7ed0739ee' title='Show/Hide attributes'><svg class='icon xr-icon-file-text2'><use xlink:href='#icon-file-text2'></use></svg></label><input id='data-9dda3b6d-fdb0-4a3c-ac77-217b3a5d5f5e' class='xr-var-data-in' type='checkbox'><label for='data-9dda3b6d-fdb0-4a3c-ac77-217b3a5d5f5e' title='Show/Hide data repr'><svg class='icon xr-icon-database'><use xlink:href='#icon-database'></use></svg></label><div class='xr-var-attrs'><dl class='xr-attrs'><dt><span>name :</span></dt><dd>wind direction</dd><dt><span>units :</span></dt><dd>deg</dd><dt><span>comments :</span></dt><dd>horizontal wind direction retrived using the FFT method with respect to true north</dd><dt><span>info :</span></dt><dd>0=wind coming from the north, 90=east, 180=south, 270=west</dd></dl></div><div class='xr-var-data'><pre>array([[ 82.04879937,  79.68815761,  87.18918881, ...,          nan,\n",
       "                 nan,          nan],\n",
       "       [101.90865544, 102.03428783, 108.98835195, ...,          nan,\n",
       "                 nan,          nan],\n",
       "       [105.39191908, 103.52910987,  99.48177222, ...,          nan,\n",
       "                 nan,          nan],\n",
       "       ...,\n",
       "       [ 93.49667527,  97.88265051,  86.54973375, ...,          nan,\n",
       "                 nan,          nan],\n",
       "       [122.07450652, 124.91572877, 122.07674197, ...,          nan,\n",
       "                 nan,          nan],\n",
       "       [136.70125445, 144.44080913, 152.55159704, ...,          nan,\n",
       "                 nan,          nan]])</pre></div></li><li class='xr-var-item'><div class='xr-var-name'><span>horizontal_wind_speed</span></div><div class='xr-var-dims'>(mean_time, range)</div><div class='xr-var-dtype'>float64</div><div class='xr-var-preview xr-preview'>4.536 4.254 4.119 ... nan nan nan</div><input id='attrs-add1786a-8031-4bb6-a91e-dd99092791b8' class='xr-var-attrs-in' type='checkbox' ><label for='attrs-add1786a-8031-4bb6-a91e-dd99092791b8' title='Show/Hide attributes'><svg class='icon xr-icon-file-text2'><use xlink:href='#icon-file-text2'></use></svg></label><input id='data-b194c3f4-a0b0-42d3-9240-e4b8519091df' class='xr-var-data-in' type='checkbox'><label for='data-b194c3f4-a0b0-42d3-9240-e4b8519091df' title='Show/Hide data repr'><svg class='icon xr-icon-database'><use xlink:href='#icon-database'></use></svg></label><div class='xr-var-attrs'><dl class='xr-attrs'><dt><span>name :</span></dt><dd>wind speed</dd><dt><span>units :</span></dt><dd>m s-1</dd><dt><span>comments :</span></dt><dd>horizontal wind speed retrived using the FFT method</dd></dl></div><div class='xr-var-data'><pre>array([[4.53636386, 4.25375274, 4.11942253, ...,        nan,        nan,\n",
       "               nan],\n",
       "       [6.68059252, 6.76361453, 6.20638932, ...,        nan,        nan,\n",
       "               nan],\n",
       "       [6.3564044 , 7.33474957, 6.71616601, ...,        nan,        nan,\n",
       "               nan],\n",
       "       ...,\n",
       "       [4.72829681, 4.71016782, 5.8194779 , ...,        nan,        nan,\n",
       "               nan],\n",
       "       [4.71299183, 4.6376406 , 5.00992205, ...,        nan,        nan,\n",
       "               nan],\n",
       "       [7.77555032, 8.60158547, 9.39089713, ...,        nan,        nan,\n",
       "               nan]])</pre></div></li><li class='xr-var-item'><div class='xr-var-name'><span>meridional_wind</span></div><div class='xr-var-dims'>(mean_time, range)</div><div class='xr-var-dtype'>float64</div><div class='xr-var-preview xr-preview'>-0.6275 -0.7614 -0.202 ... nan nan</div><input id='attrs-9a4a9f49-f5b8-467d-b314-5ce0f001a5a2' class='xr-var-attrs-in' type='checkbox' ><label for='attrs-9a4a9f49-f5b8-467d-b314-5ce0f001a5a2' title='Show/Hide attributes'><svg class='icon xr-icon-file-text2'><use xlink:href='#icon-file-text2'></use></svg></label><input id='data-b4bba93d-714f-46fa-b341-26a0d4db8ec3' class='xr-var-data-in' type='checkbox'><label for='data-b4bba93d-714f-46fa-b341-26a0d4db8ec3' title='Show/Hide data repr'><svg class='icon xr-icon-database'><use xlink:href='#icon-database'></use></svg></label><div class='xr-var-attrs'><dl class='xr-attrs'><dt><span>name :</span></dt><dd>meridional wind</dd><dt><span>units :</span></dt><dd>m s-1</dd><dt><span>comments :</span></dt><dd>meridional wind retrieved using the FFT method</dd></dl></div><div class='xr-var-data'><pre>array([[-0.62751353, -0.76144543, -0.20200921, ...,         nan,\n",
       "                nan,         nan],\n",
       "       [ 1.37855364,  1.41019342,  2.01940968, ...,         nan,\n",
       "                nan,         nan],\n",
       "       [ 1.68711775,  1.71588661,  1.10637972, ...,         nan,\n",
       "                nan,         nan],\n",
       "       ...,\n",
       "       [ 0.28838176,  0.64597412, -0.35022851, ...,         nan,\n",
       "                nan,         nan],\n",
       "       [ 2.50270048,  2.65445098,  2.66054247, ...,         nan,\n",
       "                nan,         nan],\n",
       "       [ 5.65895045,  6.9975203 ,  8.33372905, ...,         nan,\n",
       "                nan,         nan]])</pre></div></li><li class='xr-var-item'><div class='xr-var-name'><span>zonal_wind</span></div><div class='xr-var-dims'>(mean_time, range)</div><div class='xr-var-dtype'>float64</div><div class='xr-var-preview xr-preview'>4.493 4.185 4.114 ... nan nan nan</div><input id='attrs-844c68fa-4192-4c6d-937b-f59aae35bb33' class='xr-var-attrs-in' type='checkbox' ><label for='attrs-844c68fa-4192-4c6d-937b-f59aae35bb33' title='Show/Hide attributes'><svg class='icon xr-icon-file-text2'><use xlink:href='#icon-file-text2'></use></svg></label><input id='data-1bf3a3e3-f7e6-4947-854b-52fc13f48396' class='xr-var-data-in' type='checkbox'><label for='data-1bf3a3e3-f7e6-4947-854b-52fc13f48396' title='Show/Hide data repr'><svg class='icon xr-icon-database'><use xlink:href='#icon-database'></use></svg></label><div class='xr-var-attrs'><dl class='xr-attrs'><dt><span>name :</span></dt><dd>zonal wind</dd><dt><span>units :</span></dt><dd>m s-1</dd><dt><span>comments :</span></dt><dd>zonal wind retrieved using the FFT method</dd></dl></div><div class='xr-var-data'><pre>array([[4.49275236, 4.18504638, 4.11446646, ...,        nan,        nan,\n",
       "               nan],\n",
       "       [6.53681163, 6.6149706 , 5.86866705, ...,        nan,        nan,\n",
       "               nan],\n",
       "       [6.12841828, 7.131219  , 6.62441014, ...,        nan,        nan,\n",
       "               nan],\n",
       "       ...,\n",
       "       [4.71949432, 4.66566162, 5.80892959, ...,        nan,        nan,\n",
       "               nan],\n",
       "       [3.99359266, 3.80284108, 4.24509513, ...,        nan,        nan,\n",
       "               nan],\n",
       "       [5.33249121, 5.00219774, 4.32873064, ...,        nan,        nan,\n",
       "               nan]])</pre></div></li><li class='xr-var-item'><div class='xr-var-name'><span>start_scan</span></div><div class='xr-var-dims'>(mean_time)</div><div class='xr-var-dtype'>datetime64[ns]</div><div class='xr-var-preview xr-preview'>2022-05-17T10:00:58.190000 ... 2...</div><input id='attrs-ad810921-945f-4d7d-96ab-7889bccd1d0f' class='xr-var-attrs-in' type='checkbox' ><label for='attrs-ad810921-945f-4d7d-96ab-7889bccd1d0f' title='Show/Hide attributes'><svg class='icon xr-icon-file-text2'><use xlink:href='#icon-file-text2'></use></svg></label><input id='data-c7f20779-941f-44c9-8422-b248efb4f907' class='xr-var-data-in' type='checkbox'><label for='data-c7f20779-941f-44c9-8422-b248efb4f907' title='Show/Hide data repr'><svg class='icon xr-icon-database'><use xlink:href='#icon-database'></use></svg></label><div class='xr-var-attrs'><dl class='xr-attrs'><dt><span>Name :</span></dt><dd>Time</dd><dt><span>Units :</span></dt><dd>Number of seconds since 1/1/2001 00:00:00 [UTC]</dd></dl></div><div class='xr-var-data'><pre>array([&#x27;2022-05-17T10:00:58.190000000&#x27;, &#x27;2022-05-17T10:02:22.250000000&#x27;,\n",
       "       &#x27;2022-05-17T10:03:48.280000000&#x27;, &#x27;2022-05-17T10:05:15.300000000&#x27;,\n",
       "       &#x27;2022-05-17T10:06:41.340000000&#x27;, &#x27;2022-05-17T10:08:13.130000000&#x27;,\n",
       "       &#x27;2022-05-17T10:09:41.160000000&#x27;, &#x27;2022-05-17T10:11:06.200000000&#x27;,\n",
       "       &#x27;2022-05-17T10:12:32.241000064&#x27;, &#x27;2022-05-17T10:13:57.281000064&#x27;,\n",
       "       &#x27;2022-05-17T10:15:23.310999936&#x27;, &#x27;2022-05-17T10:16:48.360999936&#x27;,\n",
       "       &#x27;2022-05-17T10:18:13.391000064&#x27;, &#x27;2022-05-17T10:19:38.440999936&#x27;,\n",
       "       &#x27;2022-05-17T10:21:03.470999936&#x27;, &#x27;2022-05-17T10:22:29.511000064&#x27;,\n",
       "       &#x27;2022-05-17T10:23:54.552000000&#x27;, &#x27;2022-05-17T10:25:27.312000000&#x27;,\n",
       "       &#x27;2022-05-17T10:26:53.362000000&#x27;, &#x27;2022-05-17T10:28:19.382000000&#x27;,\n",
       "       &#x27;2022-05-17T10:29:44.442000000&#x27;, &#x27;2022-05-17T10:31:09.482000000&#x27;,\n",
       "       &#x27;2022-05-17T10:32:35.512000000&#x27;, &#x27;2022-05-17T10:34:01.552000000&#x27;,\n",
       "       &#x27;2022-05-17T10:35:27.592000000&#x27;, &#x27;2022-05-17T10:36:52.623000064&#x27;,\n",
       "       &#x27;2022-05-17T10:38:19.643000064&#x27;, &#x27;2022-05-17T10:39:45.682999936&#x27;,\n",
       "       &#x27;2022-05-17T10:41:09.723000064&#x27;, &#x27;2022-05-17T10:42:41.503000064&#x27;,\n",
       "       &#x27;2022-05-17T10:44:07.552999936&#x27;, &#x27;2022-05-17T10:45:33.593000064&#x27;,\n",
       "       &#x27;2022-05-17T10:46:59.633000064&#x27;, &#x27;2022-05-17T10:48:24.664000000&#x27;,\n",
       "       &#x27;2022-05-17T10:49:50.704000000&#x27;, &#x27;2022-05-17T10:51:15.744000000&#x27;,\n",
       "       &#x27;2022-05-17T10:52:41.764000000&#x27;, &#x27;2022-05-17T10:54:06.804000000&#x27;,\n",
       "       &#x27;2022-05-17T10:55:33.824000000&#x27;, &#x27;2022-05-17T10:56:58.864000000&#x27;,\n",
       "       &#x27;2022-05-17T10:58:23.904000000&#x27;, &#x27;2022-05-17T10:59:55.695000064&#x27;],\n",
       "      dtype=&#x27;datetime64[ns]&#x27;)</pre></div></li><li class='xr-var-item'><div class='xr-var-name'><span>end_scan</span></div><div class='xr-var-dims'>(mean_time)</div><div class='xr-var-dtype'>datetime64[ns]</div><div class='xr-var-preview xr-preview'>2022-05-17T10:02:13.480000 ... 2...</div><input id='attrs-30517f4b-81a0-453d-a583-ce67b7c4f2c2' class='xr-var-attrs-in' type='checkbox' ><label for='attrs-30517f4b-81a0-453d-a583-ce67b7c4f2c2' title='Show/Hide attributes'><svg class='icon xr-icon-file-text2'><use xlink:href='#icon-file-text2'></use></svg></label><input id='data-fc388595-977d-4609-8f06-52ab1696da19' class='xr-var-data-in' type='checkbox'><label for='data-fc388595-977d-4609-8f06-52ab1696da19' title='Show/Hide data repr'><svg class='icon xr-icon-database'><use xlink:href='#icon-database'></use></svg></label><div class='xr-var-attrs'><dl class='xr-attrs'><dt><span>Name :</span></dt><dd>Time</dd><dt><span>Units :</span></dt><dd>Number of seconds since 1/1/2001 00:00:00 [UTC]</dd></dl></div><div class='xr-var-data'><pre>array([&#x27;2022-05-17T10:02:13.480000000&#x27;, &#x27;2022-05-17T10:03:39.520000000&#x27;,\n",
       "       &#x27;2022-05-17T10:05:05.560000000&#x27;, &#x27;2022-05-17T10:06:31.590000000&#x27;,\n",
       "       &#x27;2022-05-17T10:07:57.630000000&#x27;, &#x27;2022-05-17T10:09:29.430000000&#x27;,\n",
       "       &#x27;2022-05-17T10:10:56.450000000&#x27;, &#x27;2022-05-17T10:12:22.480999936&#x27;,\n",
       "       &#x27;2022-05-17T10:13:47.531000064&#x27;, &#x27;2022-05-17T10:15:13.570999936&#x27;,\n",
       "       &#x27;2022-05-17T10:16:38.610999936&#x27;, &#x27;2022-05-17T10:18:03.651000064&#x27;,\n",
       "       &#x27;2022-05-17T10:19:28.690999936&#x27;, &#x27;2022-05-17T10:20:54.720999936&#x27;,\n",
       "       &#x27;2022-05-17T10:22:19.761000064&#x27;, &#x27;2022-05-17T10:23:45.791000064&#x27;,\n",
       "       &#x27;2022-05-17T10:25:11.822000000&#x27;, &#x27;2022-05-17T10:26:43.602000000&#x27;,\n",
       "       &#x27;2022-05-17T10:28:09.642000000&#x27;, &#x27;2022-05-17T10:29:34.682000000&#x27;,\n",
       "       &#x27;2022-05-17T10:30:59.732000000&#x27;, &#x27;2022-05-17T10:32:25.762000000&#x27;,\n",
       "       &#x27;2022-05-17T10:33:51.792000000&#x27;, &#x27;2022-05-17T10:35:17.832000000&#x27;,\n",
       "       &#x27;2022-05-17T10:36:43.873000064&#x27;, &#x27;2022-05-17T10:38:09.902999936&#x27;,\n",
       "       &#x27;2022-05-17T10:39:35.932999936&#x27;, &#x27;2022-05-17T10:41:00.973000064&#x27;,\n",
       "       &#x27;2022-05-17T10:42:26.013000064&#x27;, &#x27;2022-05-17T10:43:57.792999936&#x27;,\n",
       "       &#x27;2022-05-17T10:45:23.832999936&#x27;, &#x27;2022-05-17T10:46:49.873000064&#x27;,\n",
       "       &#x27;2022-05-17T10:48:15.914000000&#x27;, &#x27;2022-05-17T10:49:40.954000000&#x27;,\n",
       "       &#x27;2022-05-17T10:51:06.984000000&#x27;, &#x27;2022-05-17T10:52:32.024000000&#x27;,\n",
       "       &#x27;2022-05-17T10:53:58.054000000&#x27;, &#x27;2022-05-17T10:55:24.084000000&#x27;,\n",
       "       &#x27;2022-05-17T10:56:49.124000000&#x27;, &#x27;2022-05-17T10:58:14.164000000&#x27;,\n",
       "       &#x27;2022-05-17T10:59:40.195000064&#x27;, &#x27;2022-05-17T11:01:11.400000000&#x27;],\n",
       "      dtype=&#x27;datetime64[ns]&#x27;)</pre></div></li><li class='xr-var-item'><div class='xr-var-name'><span>zdr_max</span></div><div class='xr-var-dims'>(mean_time, range)</div><div class='xr-var-dtype'>float32</div><div class='xr-var-preview xr-preview'>5.533 6.141 6.962 ... nan nan nan</div><input id='attrs-b1d289d9-c3f3-4085-bc68-d02a4c341634' class='xr-var-attrs-in' type='checkbox' ><label for='attrs-b1d289d9-c3f3-4085-bc68-d02a4c341634' title='Show/Hide attributes'><svg class='icon xr-icon-file-text2'><use xlink:href='#icon-file-text2'></use></svg></label><input id='data-bb4f2156-2c9f-47da-98e2-56a935f47cef' class='xr-var-data-in' type='checkbox'><label for='data-bb4f2156-2c9f-47da-98e2-56a935f47cef' title='Show/Hide data repr'><svg class='icon xr-icon-database'><use xlink:href='#icon-database'></use></svg></label><div class='xr-var-attrs'><dl class='xr-attrs'><dt><span>Name :</span></dt><dd>Maximum ZDR</dd><dt><span>units :</span></dt><dd>dB</dd><dt><span>Comment :</span></dt><dd>Maximum ZDR per complete PPI scan</dd></dl></div><div class='xr-var-data'><pre>array([[5.5331583, 6.141076 , 6.962328 , ...,       nan,       nan,\n",
       "              nan],\n",
       "       [8.961918 , 7.182236 , 5.239216 , ...,       nan,       nan,\n",
       "              nan],\n",
       "       [7.1929893, 4.9451785, 6.8622394, ...,       nan,       nan,\n",
       "              nan],\n",
       "       ...,\n",
       "       [6.1269   , 7.221713 , 6.077519 , ...,       nan,       nan,\n",
       "              nan],\n",
       "       [6.898547 , 5.898196 , 5.7665577, ...,       nan,       nan,\n",
       "              nan],\n",
       "       [7.5182233, 7.522902 , 7.0381165, ...,       nan,       nan,\n",
       "              nan]], dtype=float32)</pre></div></li><li class='xr-var-item'><div class='xr-var-name'><span>nan_percentual</span></div><div class='xr-var-dims'>(mean_time, range)</div><div class='xr-var-dtype'>float64</div><div class='xr-var-preview xr-preview'>0.0 0.0 0.0 ... 100.0 100.0 100.0</div><input id='attrs-ca4cf28c-8687-4641-bec8-f56d892e420e' class='xr-var-attrs-in' type='checkbox' ><label for='attrs-ca4cf28c-8687-4641-bec8-f56d892e420e' title='Show/Hide attributes'><svg class='icon xr-icon-file-text2'><use xlink:href='#icon-file-text2'></use></svg></label><input id='data-ea7acd24-0431-4994-bb82-c9c9f603339f' class='xr-var-data-in' type='checkbox'><label for='data-ea7acd24-0431-4994-bb82-c9c9f603339f' title='Show/Hide data repr'><svg class='icon xr-icon-database'><use xlink:href='#icon-database'></use></svg></label><div class='xr-var-attrs'><dl class='xr-attrs'><dt><span>comment :</span></dt><dd>Percentual of NaN per single PPI scan</dd></dl></div><div class='xr-var-data'><pre>array([[  0.        ,   0.        ,   0.        , ..., 100.        ,\n",
       "        100.        , 100.        ],\n",
       "       [  3.79746835,   1.26582278,   1.26582278, ..., 100.        ,\n",
       "        100.        , 100.        ],\n",
       "       [  0.        ,   0.        ,   1.26582278, ..., 100.        ,\n",
       "        100.        , 100.        ],\n",
       "       ...,\n",
       "       [  0.        ,   0.        ,   0.        , ..., 100.        ,\n",
       "        100.        , 100.        ],\n",
       "       [  0.        ,   0.        ,   0.        , ..., 100.        ,\n",
       "        100.        , 100.        ],\n",
       "       [  2.5974026 ,   0.        ,   1.2987013 , ..., 100.        ,\n",
       "        100.        , 100.        ]])</pre></div></li><li class='xr-var-item'><div class='xr-var-name'><span>chirp_start</span></div><div class='xr-var-dims'>(mean_time, chirp)</div><div class='xr-var-dtype'>float32</div><div class='xr-var-preview xr-preview'>111.8 621.0 ... 621.0 2.033e+03</div><input id='attrs-39ae9121-f5ee-420c-b7c0-968a4d57df69' class='xr-var-attrs-in' type='checkbox' ><label for='attrs-39ae9121-f5ee-420c-b7c0-968a4d57df69' title='Show/Hide attributes'><svg class='icon xr-icon-file-text2'><use xlink:href='#icon-file-text2'></use></svg></label><input id='data-7355ad8b-20e7-4957-a80a-5e77003d74c9' class='xr-var-data-in' type='checkbox'><label for='data-7355ad8b-20e7-4957-a80a-5e77003d74c9' title='Show/Hide data repr'><svg class='icon xr-icon-database'><use xlink:href='#icon-database'></use></svg></label><div class='xr-var-attrs'><dl class='xr-attrs'><dt><span>units :</span></dt><dd>m</dd><dt><span>comment :</span></dt><dd>starting height from each chirp sequence</dd></dl></div><div class='xr-var-data'><pre>array([[ 111.795395,  620.987   , 2033.4624  ],\n",
       "       [ 111.795395,  620.987   , 2033.4624  ],\n",
       "       [ 111.795395,  620.987   , 2033.4624  ],\n",
       "       [ 111.795395,  620.987   , 2033.4624  ],\n",
       "       [ 111.795395,  620.987   , 2033.4624  ],\n",
       "       [ 111.795395,  620.987   , 2033.4624  ],\n",
       "       [ 111.795395,  620.987   , 2033.4624  ],\n",
       "       [ 111.795395,  620.987   , 2033.4624  ],\n",
       "       [ 111.795395,  620.987   , 2033.4624  ],\n",
       "       [ 111.795395,  620.987   , 2033.4624  ],\n",
       "       [ 111.795395,  620.987   , 2033.4624  ],\n",
       "       [ 111.795395,  620.987   , 2033.4624  ],\n",
       "       [ 111.795395,  620.987   , 2033.4624  ],\n",
       "       [ 111.795395,  620.987   , 2033.4624  ],\n",
       "       [ 111.795395,  620.987   , 2033.4624  ],\n",
       "       [ 111.795395,  620.987   , 2033.4624  ],\n",
       "       [ 111.795395,  620.987   , 2033.4624  ],\n",
       "       [ 111.795395,  620.987   , 2033.4624  ],\n",
       "       [ 111.795395,  620.987   , 2033.4624  ],\n",
       "       [ 111.795395,  620.987   , 2033.4624  ],\n",
       "...\n",
       "       [ 111.795395,  620.987   , 2033.4624  ],\n",
       "       [ 111.795395,  620.987   , 2033.4624  ],\n",
       "       [ 111.795395,  620.987   , 2033.4624  ],\n",
       "       [ 111.795395,  620.987   , 2033.4624  ],\n",
       "       [ 111.795395,  620.987   , 2033.4624  ],\n",
       "       [ 111.795395,  620.987   , 2033.4624  ],\n",
       "       [ 111.795395,  620.987   , 2033.4624  ],\n",
       "       [ 111.795395,  620.987   , 2033.4624  ],\n",
       "       [ 111.795395,  620.987   , 2033.4624  ],\n",
       "       [ 111.795395,  620.987   , 2033.4624  ],\n",
       "       [ 111.795395,  620.987   , 2033.4624  ],\n",
       "       [ 111.795395,  620.987   , 2033.4624  ],\n",
       "       [ 111.795395,  620.987   , 2033.4624  ],\n",
       "       [ 111.795395,  620.987   , 2033.4624  ],\n",
       "       [ 111.795395,  620.987   , 2033.4624  ],\n",
       "       [ 111.795395,  620.987   , 2033.4624  ],\n",
       "       [ 111.795395,  620.987   , 2033.4624  ],\n",
       "       [ 111.795395,  620.987   , 2033.4624  ],\n",
       "       [ 111.795395,  620.987   , 2033.4624  ],\n",
       "       [ 111.795395,  620.987   , 2033.4624  ]], dtype=float32)</pre></div></li><li class='xr-var-item'><div class='xr-var-name'><span>chirp_end</span></div><div class='xr-var-dims'>(mean_time, chirp)</div><div class='xr-var-dtype'>float32</div><div class='xr-var-preview xr-preview'>581.3 1.998e+03 ... 1.197e+04</div><input id='attrs-fa5c2d26-4745-4736-9bb7-d43893ae464d' class='xr-var-attrs-in' type='checkbox' ><label for='attrs-fa5c2d26-4745-4736-9bb7-d43893ae464d' title='Show/Hide attributes'><svg class='icon xr-icon-file-text2'><use xlink:href='#icon-file-text2'></use></svg></label><input id='data-0c67fbc2-3eac-4e3d-a5be-965353ed8f90' class='xr-var-data-in' type='checkbox'><label for='data-0c67fbc2-3eac-4e3d-a5be-965353ed8f90' title='Show/Hide data repr'><svg class='icon xr-icon-database'><use xlink:href='#icon-database'></use></svg></label><div class='xr-var-attrs'><dl class='xr-attrs'><dt><span>units :</span></dt><dd>m</dd><dt><span>comment :</span></dt><dd>ending height from each chirp sequence</dd></dl></div><div class='xr-var-data'><pre>array([[  581.33606,  1997.9583 , 11974.834  ],\n",
       "       [  581.33606,  1997.9583 , 11974.834  ],\n",
       "       [  581.33606,  1997.9583 , 11974.834  ],\n",
       "       [  581.33606,  1997.9583 , 11974.834  ],\n",
       "       [  581.33606,  1997.9583 , 11974.834  ],\n",
       "       [  581.33606,  1997.9583 , 11974.834  ],\n",
       "       [  581.33606,  1997.9583 , 11974.834  ],\n",
       "       [  581.33606,  1997.9583 , 11974.834  ],\n",
       "       [  581.33606,  1997.9583 , 11974.834  ],\n",
       "       [  581.33606,  1997.9583 , 11974.834  ],\n",
       "       [  581.33606,  1997.9583 , 11974.834  ],\n",
       "       [  581.33606,  1997.9583 , 11974.834  ],\n",
       "       [  581.33606,  1997.9583 , 11974.834  ],\n",
       "       [  581.33606,  1997.9583 , 11974.834  ],\n",
       "       [  581.33606,  1997.9583 , 11974.834  ],\n",
       "       [  581.33606,  1997.9583 , 11974.834  ],\n",
       "       [  581.33606,  1997.9583 , 11974.834  ],\n",
       "       [  581.33606,  1997.9583 , 11974.834  ],\n",
       "       [  581.33606,  1997.9583 , 11974.834  ],\n",
       "       [  581.33606,  1997.9583 , 11974.834  ],\n",
       "...\n",
       "       [  581.33606,  1997.9583 , 11974.834  ],\n",
       "       [  581.33606,  1997.9583 , 11974.834  ],\n",
       "       [  581.33606,  1997.9583 , 11974.834  ],\n",
       "       [  581.33606,  1997.9583 , 11974.834  ],\n",
       "       [  581.33606,  1997.9583 , 11974.834  ],\n",
       "       [  581.33606,  1997.9583 , 11974.834  ],\n",
       "       [  581.33606,  1997.9583 , 11974.834  ],\n",
       "       [  581.33606,  1997.9583 , 11974.834  ],\n",
       "       [  581.33606,  1997.9583 , 11974.834  ],\n",
       "       [  581.33606,  1997.9583 , 11974.834  ],\n",
       "       [  581.33606,  1997.9583 , 11974.834  ],\n",
       "       [  581.33606,  1997.9583 , 11974.834  ],\n",
       "       [  581.33606,  1997.9583 , 11974.834  ],\n",
       "       [  581.33606,  1997.9583 , 11974.834  ],\n",
       "       [  581.33606,  1997.9583 , 11974.834  ],\n",
       "       [  581.33606,  1997.9583 , 11974.834  ],\n",
       "       [  581.33606,  1997.9583 , 11974.834  ],\n",
       "       [  581.33606,  1997.9583 , 11974.834  ],\n",
       "       [  581.33606,  1997.9583 , 11974.834  ],\n",
       "       [  581.33606,  1997.9583 , 11974.834  ]], dtype=float32)</pre></div></li><li class='xr-var-item'><div class='xr-var-name'><span>chirp_azimuth_bias</span></div><div class='xr-var-dims'>(mean_time, chirp)</div><div class='xr-var-dtype'>float64</div><div class='xr-var-preview xr-preview'>0.0 0.0 0.0 0.0 ... 0.0 0.0 0.0 0.0</div><input id='attrs-917f847a-a4e5-4e24-b17a-de092b13771b' class='xr-var-attrs-in' type='checkbox' ><label for='attrs-917f847a-a4e5-4e24-b17a-de092b13771b' title='Show/Hide attributes'><svg class='icon xr-icon-file-text2'><use xlink:href='#icon-file-text2'></use></svg></label><input id='data-58994533-bb31-4f7e-9349-e5a8cce7e8d5' class='xr-var-data-in' type='checkbox'><label for='data-58994533-bb31-4f7e-9349-e5a8cce7e8d5' title='Show/Hide data repr'><svg class='icon xr-icon-database'><use xlink:href='#icon-database'></use></svg></label><div class='xr-var-attrs'><dl class='xr-attrs'><dt><span>units :</span></dt><dd>deg</dd><dt><span>comment :</span></dt><dd>wind direction bias correcting factor</dd></dl></div><div class='xr-var-data'><pre>array([[0., 0., 0.],\n",
       "       [0., 0., 0.],\n",
       "       [0., 0., 0.],\n",
       "       [0., 0., 0.],\n",
       "       [0., 0., 0.],\n",
       "       [0., 0., 0.],\n",
       "       [0., 0., 0.],\n",
       "       [0., 0., 0.],\n",
       "       [0., 0., 0.],\n",
       "       [0., 0., 0.],\n",
       "       [0., 0., 0.],\n",
       "       [0., 0., 0.],\n",
       "       [0., 0., 0.],\n",
       "       [0., 0., 0.],\n",
       "       [0., 0., 0.],\n",
       "       [0., 0., 0.],\n",
       "       [0., 0., 0.],\n",
       "       [0., 0., 0.],\n",
       "       [0., 0., 0.],\n",
       "       [0., 0., 0.],\n",
       "...\n",
       "       [0., 0., 0.],\n",
       "       [0., 0., 0.],\n",
       "       [0., 0., 0.],\n",
       "       [0., 0., 0.],\n",
       "       [0., 0., 0.],\n",
       "       [0., 0., 0.],\n",
       "       [0., 0., 0.],\n",
       "       [0., 0., 0.],\n",
       "       [0., 0., 0.],\n",
       "       [0., 0., 0.],\n",
       "       [0., 0., 0.],\n",
       "       [0., 0., 0.],\n",
       "       [0., 0., 0.],\n",
       "       [0., 0., 0.],\n",
       "       [0., 0., 0.],\n",
       "       [0., 0., 0.],\n",
       "       [0., 0., 0.],\n",
       "       [0., 0., 0.],\n",
       "       [0., 0., 0.],\n",
       "       [0., 0., 0.]])</pre></div></li><li class='xr-var-item'><div class='xr-var-name'><span>azm_seq</span></div><div class='xr-var-dims'>(mean_time)</div><div class='xr-var-dtype'>float64</div><div class='xr-var-preview xr-preview'>1.0 -1.0 1.0 -1.0 ... -1.0 1.0 -1.0</div><input id='attrs-438728be-2c10-445d-b6cb-3fcecdc283da' class='xr-var-attrs-in' type='checkbox' ><label for='attrs-438728be-2c10-445d-b6cb-3fcecdc283da' title='Show/Hide attributes'><svg class='icon xr-icon-file-text2'><use xlink:href='#icon-file-text2'></use></svg></label><input id='data-e629ac43-661b-4ae9-b8c7-9413481acb3a' class='xr-var-data-in' type='checkbox'><label for='data-e629ac43-661b-4ae9-b8c7-9413481acb3a' title='Show/Hide data repr'><svg class='icon xr-icon-database'><use xlink:href='#icon-database'></use></svg></label><div class='xr-var-attrs'><dl class='xr-attrs'><dt><span>comment :</span></dt><dd> 1: azimuth increasing; -1: azimuth decreasing</dd></dl></div><div class='xr-var-data'><pre>array([ 1., -1.,  1., -1.,  1., -1.,  1., -1.,  1., -1.,  1., -1.,  1.,\n",
       "       -1.,  1., -1.,  1., -1.,  1., -1.,  1., -1.,  1., -1.,  1., -1.,\n",
       "        1., -1.,  1., -1.,  1., -1.,  1., -1.,  1., -1.,  1., -1.,  1.,\n",
       "       -1.,  1., -1.])</pre></div></li></ul></div></li><li class='xr-section-item'><input id='section-6bd949c0-744d-45f2-8bfc-7ec235810515' class='xr-section-summary-in' type='checkbox'  ><label for='section-6bd949c0-744d-45f2-8bfc-7ec235810515' class='xr-section-summary' >Indexes: <span>(3)</span></label><div class='xr-section-inline-details'></div><div class='xr-section-details'><ul class='xr-var-list'><li class='xr-var-item'><div class='xr-index-name'><div>range</div></div><div class='xr-index-preview'>PandasIndex</div><div></div><input id='index-16f4db56-582a-4f47-ae8b-7aeed1ede2fd' class='xr-index-data-in' type='checkbox'/><label for='index-16f4db56-582a-4f47-ae8b-7aeed1ede2fd' title='Show/Hide index repr'><svg class='icon xr-icon-database'><use xlink:href='#icon-database'></use></svg></label><div class='xr-index-data'><pre>PandasIndex(Index([107.98101043701172, 129.57720947265625, 151.17340087890625,\n",
       "        172.7696075439453, 194.36581420898438, 215.96202087402344,\n",
       "        237.5582275390625,  259.1544189453125,  280.7506103515625,\n",
       "        302.3468017578125,\n",
       "       ...\n",
       "         11238.9130859375,   11275.2861328125,   11311.6572265625,\n",
       "         11348.0283203125,   11384.4013671875,   11420.7724609375,\n",
       "           11457.14453125,   11493.5166015625,    11529.888671875,\n",
       "          11566.259765625],\n",
       "      dtype=&#x27;float32&#x27;, name=&#x27;range&#x27;, length=339))</pre></div></li><li class='xr-var-item'><div class='xr-index-name'><div>chirp</div></div><div class='xr-index-preview'>PandasIndex</div><div></div><input id='index-04309ae8-6958-40f5-a7be-f516dba010a2' class='xr-index-data-in' type='checkbox'/><label for='index-04309ae8-6958-40f5-a7be-f516dba010a2' title='Show/Hide index repr'><svg class='icon xr-icon-database'><use xlink:href='#icon-database'></use></svg></label><div class='xr-index-data'><pre>PandasIndex(Index([1, 2, 3], dtype=&#x27;int64&#x27;, name=&#x27;chirp&#x27;))</pre></div></li><li class='xr-var-item'><div class='xr-index-name'><div>mean_time</div></div><div class='xr-index-preview'>PandasIndex</div><div></div><input id='index-afdfc273-ec09-4c00-9fc5-29f22174a9ba' class='xr-index-data-in' type='checkbox'/><label for='index-afdfc273-ec09-4c00-9fc5-29f22174a9ba' title='Show/Hide index repr'><svg class='icon xr-icon-database'><use xlink:href='#icon-database'></use></svg></label><div class='xr-index-data'><pre>PandasIndex(DatetimeIndex([&#x27;2022-05-17 10:01:35.830779220&#x27;,\n",
       "               &#x27;2022-05-17 10:03:00.880759493&#x27;,\n",
       "               &#x27;2022-05-17 10:04:26.918101265&#x27;,\n",
       "               &#x27;2022-05-17 10:05:53.443717948&#x27;,\n",
       "               &#x27;2022-05-17 10:07:19.483846153&#x27;,\n",
       "               &#x27;2022-05-17 10:08:51.280384615&#x27;,\n",
       "               &#x27;2022-05-17 10:10:18.800129870&#x27;,\n",
       "               &#x27;2022-05-17 10:11:44.335217949&#x27;,\n",
       "               &#x27;2022-05-17 10:13:09.879831166&#x27;,\n",
       "               &#x27;2022-05-17 10:14:35.415999993&#x27;,\n",
       "               &#x27;2022-05-17 10:16:00.958662340&#x27;,\n",
       "               &#x27;2022-05-17 10:17:26.000480516&#x27;,\n",
       "               &#x27;2022-05-17 10:18:51.040480510&#x27;,\n",
       "               &#x27;2022-05-17 10:20:16.576000003&#x27;,\n",
       "               &#x27;2022-05-17 10:21:41.613307693&#x27;,\n",
       "               &#x27;2022-05-17 10:23:07.645871786&#x27;,\n",
       "               &#x27;2022-05-17 10:24:33.182886075&#x27;,\n",
       "               &#x27;2022-05-17 10:26:05.461358974&#x27;,\n",
       "               &#x27;2022-05-17 10:27:31.496230769&#x27;,\n",
       "               &#x27;2022-05-17 10:28:57.029662337&#x27;,\n",
       "               &#x27;2022-05-17 10:30:22.080831168&#x27;,\n",
       "               &#x27;2022-05-17 10:31:47.616230769&#x27;,\n",
       "               &#x27;2022-05-17 10:33:13.646615384&#x27;,\n",
       "               &#x27;2022-05-17 10:34:39.686358974&#x27;,\n",
       "               &#x27;2022-05-17 10:36:05.727000004&#x27;,\n",
       "               &#x27;2022-05-17 10:37:31.261481008&#x27;,\n",
       "               &#x27;2022-05-17 10:38:57.786205131&#x27;,\n",
       "               &#x27;2022-05-17 10:40:23.321831176&#x27;,\n",
       "               &#x27;2022-05-17 10:41:47.865307693&#x27;,\n",
       "               &#x27;2022-05-17 10:43:19.652743591&#x27;,\n",
       "               &#x27;2022-05-17 10:44:45.691717948&#x27;,\n",
       "               &#x27;2022-05-17 10:46:11.727615384&#x27;,\n",
       "               &#x27;2022-05-17 10:47:37.768358974&#x27;,\n",
       "               &#x27;2022-05-17 10:49:02.806307692&#x27;,\n",
       "               &#x27;2022-05-17 10:50:28.838871794&#x27;,\n",
       "               &#x27;2022-05-17 10:51:53.877717948&#x27;,\n",
       "               &#x27;2022-05-17 10:53:19.907076923&#x27;,\n",
       "               &#x27;2022-05-17 10:54:45.441721518&#x27;,\n",
       "               &#x27;2022-05-17 10:56:11.471662337&#x27;,\n",
       "               &#x27;2022-05-17 10:57:36.511662337&#x27;,\n",
       "               &#x27;2022-05-17 10:59:02.047807698&#x27;,\n",
       "               &#x27;2022-05-17 11:00:33.718896101&#x27;],\n",
       "              dtype=&#x27;datetime64[ns]&#x27;, name=&#x27;mean_time&#x27;, freq=None))</pre></div></li></ul></div></li><li class='xr-section-item'><input id='section-4af4aeff-aa90-4e99-81b4-182338ea905a' class='xr-section-summary-in' type='checkbox' disabled ><label for='section-4af4aeff-aa90-4e99-81b4-182338ea905a' class='xr-section-summary'  title='Expand/collapse section'>Attributes: <span>(0)</span></label><div class='xr-section-inline-details'></div><div class='xr-section-details'><dl class='xr-attrs'></dl></div></li></ul></div></div>"
      ],
      "text/plain": [
       "<xarray.Dataset> Size: 631kB\n",
       "Dimensions:                    (range: 339, chirp: 3, mean_time: 42)\n",
       "Coordinates:\n",
       "  * range                      (range) float32 1kB 108.0 129.6 ... 1.157e+04\n",
       "  * chirp                      (chirp) int64 24B 1 2 3\n",
       "  * mean_time                  (mean_time) datetime64[ns] 336B 2022-05-17T10:...\n",
       "    elevation                  float32 4B 74.99\n",
       "    freq_azimuth               float64 8B 0.002778\n",
       "    azimuth_length             int64 8B 72\n",
       "Data variables:\n",
       "    horizontal_wind_direction  (mean_time, range) float64 114kB 82.05 ... nan\n",
       "    horizontal_wind_speed      (mean_time, range) float64 114kB 4.536 ... nan\n",
       "    meridional_wind            (mean_time, range) float64 114kB -0.6275 ... nan\n",
       "    zonal_wind                 (mean_time, range) float64 114kB 4.493 ... nan\n",
       "    start_scan                 (mean_time) datetime64[ns] 336B 2022-05-17T10:...\n",
       "    end_scan                   (mean_time) datetime64[ns] 336B 2022-05-17T10:...\n",
       "    zdr_max                    (mean_time, range) float32 57kB 5.533 ... nan\n",
       "    nan_percentual             (mean_time, range) float64 114kB 0.0 ... 100.0\n",
       "    chirp_start                (mean_time, chirp) float32 504B 111.8 ... 2.03...\n",
       "    chirp_end                  (mean_time, chirp) float32 504B 581.3 ... 1.19...\n",
       "    chirp_azimuth_bias         (mean_time, chirp) float64 1kB 0.0 0.0 ... 0.0\n",
       "    azm_seq                    (mean_time) float64 336B 1.0 -1.0 ... 1.0 -1.0"
      ]
     },
     "execution_count": 8,
     "metadata": {},
     "output_type": "execute_result"
    }
   ],
   "source": [
    "# Checking the wind dataset\n",
    "wind_ds"
   ]
  },
  {
   "cell_type": "code",
   "execution_count": 9,
   "metadata": {
    "colab": {
     "base_uri": "https://localhost:8080/",
     "height": 1000
    },
    "executionInfo": {
     "elapsed": 2141,
     "status": "ok",
     "timestamp": 1718263972570,
     "user": {
      "displayName": "Christine Unal",
      "userId": "02384359149360931920"
     },
     "user_tz": -120
    },
    "id": "VwmcnBd1t6wc",
    "outputId": "f434f6fc-4377-4d58-c4b9-ca5c0cc4ce61"
   },
   "outputs": [
    {
     "data": {
      "image/png": "[encoded data removed]",
      "text/plain": [
       "<Figure size 1000x600 with 2 Axes>"
      ]
     },
     "metadata": {},
     "output_type": "display_data"
    },
    {
     "data": {
      "image/png": "[encoded data removed]",
      "text/plain": [
       "<Figure size 1000x600 with 2 Axes>"
      ]
     },
     "metadata": {},
     "output_type": "display_data"
    }
   ],
   "source": [
    "# plotting wind speed and direction\n",
    "plt.figure(figsize=(10,6))\n",
    "wind_ds.horizontal_wind_speed.where(wind_ds.nan_percentual<50).plot(y=\"range\", cmap=\"turbo\", vmin=0, vmax=20)\n",
    "plt.show()\n",
    "\n",
    "plt.figure(figsize=(10,6))\n",
    "wind_ds.horizontal_wind_direction.where(wind_ds.nan_percentual<50).plot(y=\"range\", cmap=\"hsv\", vmin=0, vmax=360)\n",
    "plt.show()"
   ]
  },
  {
   "cell_type": "code",
   "execution_count": 10,
   "metadata": {
    "colab": {
     "base_uri": "https://localhost:8080/",
     "height": 593
    },
    "executionInfo": {
     "elapsed": 1026,
     "status": "ok",
     "timestamp": 1718264008474,
     "user": {
      "displayName": "Christine Unal",
      "userId": "02384359149360931920"
     },
     "user_tz": -120
    },
    "id": "BNycQrdQKxzf",
    "outputId": "83a98c19-6287-403b-f430-a74bbde351d4"
   },
   "outputs": [
    {
     "data": {
      "image/png": "[encoded data removed]",
      "text/plain": [
       "<Figure size 1000x600 with 2 Axes>"
      ]
     },
     "metadata": {},
     "output_type": "display_data"
    }
   ],
   "source": [
    "# plotting the maximum ZDR from each scan\n",
    "plt.figure(figsize=(10,6))\n",
    "wind_ds.zdr_max.where(wind_ds.nan_percentual<50).plot(y=\"range\", cmap=\"turbo\", vmin=0, vmax=7)\n",
    "plt.show()"
   ]
  },
  {
   "cell_type": "markdown",
   "metadata": {},
   "source": [
    "In this last cell, you can save the retrieved wind data as a NetCDF file.\n",
    "To do it, you just need to uncomment the line below. "
   ]
  },
  {
   "cell_type": "code",
   "execution_count": 11,
   "metadata": {
    "executionInfo": {
     "elapsed": 826,
     "status": "ok",
     "timestamp": 1718264025618,
     "user": {
      "displayName": "Christine Unal",
      "userId": "02384359149360931920"
     },
     "user_tz": -120
    },
    "id": "MGlVA3i2K-JI"
   },
   "outputs": [],
   "source": [
    "# wind_ds=to_netcdf('retrieved_wind.nc')"
   ]
  }
 ],
 "metadata": {
  "colab": {
   "provenance": []
  },
  "kernelspec": {
   "display_name": "Python 3 (ipykernel)",
   "language": "python",
   "name": "python3"
  },
  "language_info": {
   "codemirror_mode": {
    "name": "ipython",
    "version": 3
   },
   "file_extension": ".py",
   "mimetype": "text/x-python",
   "name": "python",
   "nbconvert_exporter": "python",
   "pygments_lexer": "ipython3",
   "version": "3.10.14"
  }
 },
 "nbformat": 4,
 "nbformat_minor": 4
}

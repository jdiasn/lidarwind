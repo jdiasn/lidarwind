{
 "cells": [
  {
   "cell_type": "markdown",
   "id": "92fcf545-5391-4ea6-a89e-0a8c45c36484",
   "metadata": {},
   "source": [
    "## Introduction:\n",
    "\n",
    "The work from [Sathe et al. 2015](https://doi.org/10.5194/amt-8-729-2015) introduces an alternative scanning strategy to be used by wind Doppler lidars for estimating turbulence (6-beam). This new strategy consists of measuring the radial wind on five equally spaced azimuths with fixed elevation, different from 0 or 90 degrees,  and one additional measurement from the zenith.\n",
    "\n",
    "This example shows how to use the lidarwind to retrieve wind speed and direction profiles from the 6-beam observations. The profiles are retrieved using the FFT, following the method proposed by [Ishwardat 2017](http://resolver.tudelft.nl/uuid:a659654b-e76a-4513-a656-ecad761bdbc8)."
   ]
  },
  {
   "cell_type": "markdown",
   "id": "decd48d7-3943-418d-98e1-81619086ce3c",
   "metadata": {},
   "source": [
    "## Steps:\n",
    "\n",
    "0) Download data from zenodo\n",
    "1) Read the WindCube's data\n",
    "2) Merge data from one hour of observations\n",
    "3) Re-structure the data for using the wind retrieval\n",
    "4) Retrieve wind speed and directin profiles\n",
    "5) Visualisation"
   ]
  },
  {
   "cell_type": "code",
   "execution_count": null,
   "id": "13eafb3a-dfc4-4e0b-b330-463caf3c0351",
   "metadata": {},
   "outputs": [],
   "source": [
    "import pooch\n",
    "import matplotlib.pyplot as plt\n",
    "import lidarwind as lst"
   ]
  },
  {
   "cell_type": "markdown",
   "id": "c0b57d8c-34f7-43a5-82d1-345d326a24a0",
   "metadata": {},
   "source": [
    "### Step 0: Downloading the sample data"
   ]
  },
  {
   "cell_type": "markdown",
   "id": "6f073e2c-e7ca-4d13-844f-7d9e74d6f6fa",
   "metadata": {},
   "source": [
    "Using pooch the sample dataset will be cached in your system."
   ]
  },
  {
   "cell_type": "code",
   "execution_count": null,
   "id": "7f8876ba-012e-42d9-adc7-2d738f252d60",
   "metadata": {},
   "outputs": [],
   "source": [
    "file_list = pooch.retrieve( \n",
    "    url=\"doi:10.5281/zenodo.7312960/wc_6beam.zip\",\n",
    "    known_hash=\"md5:a7ea3c10a6d2f4a97ff955dc4398f930\",\n",
    "    processor=pooch.Unzip())"
   ]
  },
  {
   "cell_type": "markdown",
   "id": "cd66d1e2-a12f-41c5-9576-ab1020e4db06",
   "metadata": {
    "tags": []
   },
   "source": [
    "### Step 1 and 2: reading and merging the 6-beam data"
   ]
  },
  {
   "cell_type": "code",
   "execution_count": null,
   "id": "e2e9287f-ad18-4eeb-afa6-6b28db400b8b",
   "metadata": {
    "tags": []
   },
   "outputs": [],
   "source": [
    "file_list = sorted(file_list)\n",
    "merged_ds = lst.DataOperations(file_list).merged_data"
   ]
  },
  {
   "cell_type": "markdown",
   "id": "bfc2fc46-a7a1-4502-a4b3-1d8c65a6860c",
   "metadata": {},
   "source": [
    "Below you can see all the variables available on the original WindCube's data. Not all of them are needed for retrieving the wind profiles. Note that the variables from the vertical observations are kept separate from the slanted observation. "
   ]
  },
  {
   "cell_type": "code",
   "execution_count": null,
   "id": "19277599-df42-4b08-8a70-b0a7974b701b",
   "metadata": {},
   "outputs": [],
   "source": [
    "merged_ds"
   ]
  },
  {
   "cell_type": "markdown",
   "id": "b5b33748-7d4a-4e9f-99f4-2bbfe2077dae",
   "metadata": {},
   "source": [
    "First inpressions from the slanted and vertical observations"
   ]
  },
  {
   "cell_type": "code",
   "execution_count": null,
   "id": "00892a03-b6fc-46ed-bb91-7a470920d088",
   "metadata": {},
   "outputs": [],
   "source": [
    "merged_ds.radial_wind_speed.plot(x='time', cmap='Spectral',vmin=-1, vmax=1)\n",
    "plt.show()\n",
    "\n",
    "merged_ds.radial_wind_speed90.plot(x='time', cmap='Spectral', vmin=-1, vmax=1)\n",
    "plt.show()"
   ]
  },
  {
   "cell_type": "markdown",
   "id": "a8dee81e-0751-4f9d-ba5e-1d30b11bcb5c",
   "metadata": {},
   "source": [
    "### Step 3: re-structuring the data"
   ]
  },
  {
   "cell_type": "code",
   "execution_count": null,
   "id": "0b65dd0f-ba45-48b3-889b-f10cd348e006",
   "metadata": {},
   "outputs": [],
   "source": [
    "restruct_data = lst.GetRestructuredData(merged_ds)"
   ]
  },
  {
   "cell_type": "markdown",
   "id": "c119d368-ec3b-40de-b1d6-55a2bb41c327",
   "metadata": {},
   "source": [
    "The re-structured object contains all the information needed to retrieve the wind profiles. You can have a look again at the slanted and vertical observations."
   ]
  },
  {
   "cell_type": "code",
   "execution_count": null,
   "id": "7514b47d-98b5-48a9-a3ec-f556b6090563",
   "metadata": {},
   "outputs": [],
   "source": [
    "# Radial observation at an elevation of 75 degrees and an azimuth of 216 degrees\n",
    "restruct_data.data_transf.isel(azm=3).plot(x='time',cmap='Spectral',vmin=-1, vmax=1)\n",
    "plt.show()\n",
    "\n",
    "# Observations from the zenith pointing measurements\n",
    "restruct_data.data_transf_90.plot(x='time', cmap='Spectral', vmin=-1, vmax=1)\n",
    "plt.show()"
   ]
  },
  {
   "cell_type": "markdown",
   "id": "837bdc20-689d-4a23-87d8-3f4effd3f5c5",
   "metadata": {},
   "source": [
    "### Step 4: retrieving wind profiles"
   ]
  },
  {
   "cell_type": "markdown",
   "id": "536e0429-38c9-48d1-89a8-f349b0f51f72",
   "metadata": {},
   "source": [
    "Wind speed and direction profiles are retrieved using the FFT method at this step. "
   ]
  },
  {
   "cell_type": "code",
   "execution_count": null,
   "id": "fe7a7ef3-7883-427b-bf0a-382b4d1b85b1",
   "metadata": {},
   "outputs": [],
   "source": [
    "wind_obj = lst.RetriveWindFFT(restruct_data)"
   ]
  },
  {
   "cell_type": "markdown",
   "id": "6a657063-fd88-4a0f-a22e-764b1f8a27e9",
   "metadata": {},
   "source": [
    "After retrieving the wind profiles, the dataset can be accessed by calling the wind_prop attribute. You can also visualize the retrieved wind speed and direction profiles. Have a look below."
   ]
  },
  {
   "cell_type": "code",
   "execution_count": null,
   "id": "6d1ad119-9577-47ad-91e5-c2823fa4a12d",
   "metadata": {},
   "outputs": [],
   "source": [
    "wind_obj.wind_prop"
   ]
  },
  {
   "cell_type": "markdown",
   "id": "663fa802-021f-4f4f-8c46-98027e2791cc",
   "metadata": {},
   "source": [
    "### Step 5: Visualisation"
   ]
  },
  {
   "cell_type": "code",
   "execution_count": null,
   "id": "9491f788-7595-4e0c-ac92-01e6c88853ca",
   "metadata": {},
   "outputs": [],
   "source": [
    "wind_obj.wind_prop.horizontal_wind_speed.plot(y='range', cmap='turbo')\n",
    "plt.show()\n",
    "\n",
    "wind_obj.wind_prop.horizontal_wind_direction.plot(y='range', cmap='hsv')\n",
    "plt.show()"
   ]
  },
  {
   "cell_type": "code",
   "execution_count": null,
   "id": "80f40d3e-031e-4d1e-a2b5-c2b3d3746d63",
   "metadata": {},
   "outputs": [],
   "source": [
    "# Uncomment the line below save it as NetCDF\n",
    "# wind_obj.wind_prop.to_netcdf('6_beam_example.nc')"
   ]
  },
  {
   "cell_type": "code",
   "execution_count": null,
   "id": "d8bcf878-b219-4784-9783-22346ee58e97",
   "metadata": {},
   "outputs": [],
   "source": []
  },
  {
   "cell_type": "code",
   "execution_count": null,
   "id": "f893afc8-5c6b-4b18-a4a9-0a9b6459cf05",
   "metadata": {},
   "outputs": [],
   "source": []
  }
 ],
 "metadata": {
  "kernelspec": {
   "display_name": "Python 3 (ipykernel)",
   "language": "python",
   "name": "python3"
  },
  "language_info": {
   "codemirror_mode": {
    "name": "ipython",
    "version": 3
   },
   "file_extension": ".py",
   "mimetype": "text/x-python",
   "name": "python",
   "nbconvert_exporter": "python",
   "pygments_lexer": "ipython3",
   "version": "3.8.13"
  }
 },
 "nbformat": 4,
 "nbformat_minor": 5
}

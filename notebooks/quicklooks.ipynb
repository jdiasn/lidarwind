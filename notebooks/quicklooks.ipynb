{
 "cells": [
  {
   "cell_type": "markdown",
   "id": "dd38d1e9-be07-455e-8e0b-aa661ef37e01",
   "metadata": {},
   "source": [
    "## Introduction:\n",
    "\n",
    "In addition to data processing and wind retrieval, lidarwind also has a basic visualisation module. This example shows how to use this module to quickly check the data and the retrieved wind profiles. This example follows the steps listed below. \n",
    "\n",
    "## Steps:\n",
    "\n",
    "0. Download  pre-processed data from zenodo\n",
    "1. Read the pre-processed and merge all data\n",
    "2. Visualising variables from vertically pointing observations\n",
    "3. Preparing the data for wind retrieval\n",
    "4. Visualising radial observations for each azimuth\n",
    "5. Applying the FFT-based method to retrieve wind\n",
    "6. Visualising wind speed and direction"
   ]
  },
  {
   "cell_type": "code",
   "execution_count": null,
   "id": "89ae80f2-3657-42b5-95b5-4a6a65c3ef83",
   "metadata": {},
   "outputs": [],
   "source": [
    "import pooch\n",
    "import pandas as pd\n",
    "import matplotlib as mpl \n",
    "import lidarwind as lst"
   ]
  },
  {
   "cell_type": "code",
   "execution_count": null,
   "id": "7f706734-f6e2-4842-8cd7-25319e38fa75",
   "metadata": {},
   "outputs": [],
   "source": [
    "mpl = lst.PlotSettings(mpl, style='dark_background').update_settings().mpl"
   ]
  },
  {
   "cell_type": "markdown",
   "id": "efd74862-d2bd-4035-87a9-d5621fa131ae",
   "metadata": {},
   "source": [
    "## Step 0: Download pre-processed data from zenodo"
   ]
  },
  {
   "cell_type": "code",
   "execution_count": null,
   "id": "323063e3-e6f3-45c5-8a1f-9992c27d990a",
   "metadata": {},
   "outputs": [],
   "source": [
    "def sample_downloader(date):\n",
    "\n",
    "    formated_date = date.strftime(\"%Y%m%d_%H\")\n",
    "    file_path = pooch.retrieve( \n",
    "        url=f\"doi:10.5281/zenodo.7404576/cmtrace_windcube_{formated_date}_fixed_50m.zip\",\n",
    "        known_hash=None, processor=pooch.Unzip())\n",
    "    \n",
    "    return file_path[0]"
   ]
  },
  {
   "cell_type": "code",
   "execution_count": null,
   "id": "94b219e4-e00a-461b-988c-12d6163beb27",
   "metadata": {},
   "outputs": [],
   "source": [
    "date_range = pd.date_range(start='20210921 01', end='20210921 23', freq='H')\n",
    "\n",
    "file_list = []\n",
    "for date in date_range:\n",
    "    file_list.append(sample_downloader(date))"
   ]
  },
  {
   "cell_type": "markdown",
   "id": "0d1594b4-7ac5-4627-a806-193a50223139",
   "metadata": {},
   "source": [
    "## Step 1: Read the pre-processed and merge all data"
   ]
  },
  {
   "cell_type": "code",
   "execution_count": null,
   "id": "87bb5c84-5a9a-4b61-812d-66b811bd4845",
   "metadata": {},
   "outputs": [],
   "source": [
    "fileList = sorted(file_list)\n",
    "merged_data = lst.ReadProcessedData(fileList).merge_data()"
   ]
  },
  {
   "cell_type": "markdown",
   "id": "faac4b47-9770-4a00-a197-3e474e686ccc",
   "metadata": {},
   "source": [
    "## Step 2: Visualising variables from vertically pointing observations"
   ]
  },
  {
   "cell_type": "code",
   "execution_count": null,
   "id": "8fae9216-23a4-4898-80bd-eec72fa12b7a",
   "metadata": {},
   "outputs": [],
   "source": [
    "lst.Visualizer(merged_data).view_orig_var('doppler_spectrum_width90', vmin=0.6, vmax=1.5, \n",
    "                                       cmap='turbo', show=True)\n",
    "\n",
    "lst.Visualizer(merged_data).view_orig_var('radial_wind_speed90', vmin=-2, vmax=0.5, show=True)\n",
    "\n",
    "lst.Visualizer(merged_data).view_orig_var('cnr90', vmin=-30, vmax=-5, cmap='turbo', show=True)"
   ]
  },
  {
   "cell_type": "markdown",
   "id": "2f2f1b65-a22d-43d5-a737-a3ed0f1a4b04",
   "metadata": {},
   "source": [
    "## Step 3: Preparing the data for wind retrieval"
   ]
  },
  {
   "cell_type": "code",
   "execution_count": null,
   "id": "e88cd18e-0da6-446d-9bfe-5e8aa69274d8",
   "metadata": {},
   "outputs": [],
   "source": [
    "transfd_data = lst.GetRestructuredData(merged_data)"
   ]
  },
  {
   "cell_type": "markdown",
   "id": "048ec936-ed8b-4018-98b1-dd689e1e81de",
   "metadata": {},
   "source": [
    "## Step 4: Visualising radial observations for each azimuth"
   ]
  },
  {
   "cell_type": "code",
   "execution_count": null,
   "id": "f28da2d7-8a1b-4441-bd1f-3ecc6f49383a",
   "metadata": {},
   "outputs": [],
   "source": [
    "lst.Visualizer(transfd_data.data_transf).view_orig_var('radial_wind', vmin=-7, vmax=7, \n",
    "                                                   plot_id='rad_wind_speed_panel', show=True)"
   ]
  },
  {
   "cell_type": "markdown",
   "id": "125968e4-37b7-4962-aa46-c74a625c0341",
   "metadata": {},
   "source": [
    "## Step 5: Applying the FFT-based method to retrieve wind"
   ]
  },
  {
   "cell_type": "code",
   "execution_count": null,
   "id": "5a2947f7-6cbf-418a-b4c1-6db73ad2805b",
   "metadata": {},
   "outputs": [],
   "source": [
    "wind_prop = lst.FourierTransfWindMethod(transfd_data.data_transf).wind_prop()"
   ]
  },
  {
   "cell_type": "markdown",
   "id": "e3838e3a-e30c-4a5e-a1b2-ed5212d5f554",
   "metadata": {},
   "source": [
    "## Step 6: Visualising wind speed and direction"
   ]
  },
  {
   "cell_type": "code",
   "execution_count": null,
   "id": "5ce93aae-4e65-4d33-9382-57df6873095d",
   "metadata": {},
   "outputs": [],
   "source": [
    "lst.Visualizer(wind_prop).view_ret_var('horizontal_wind_direction', vmin=0, vmax=360, \n",
    "                                    cmap='hsv', elv=wind_prop.elv.values, show=True)\n",
    "\n",
    "lst.Visualizer(wind_prop).view_ret_var('horizontal_wind_speed', vmin=0, vmax=20, \n",
    "                                    cmap='turbo', elv=wind_prop.elv.values, show=True)"
   ]
  },
  {
   "cell_type": "code",
   "execution_count": null,
   "id": "a2af08b5-a6e2-49c6-b539-1d37b736910a",
   "metadata": {},
   "outputs": [],
   "source": []
  }
 ],
 "metadata": {
  "kernelspec": {
   "display_name": "Python 3 (ipykernel)",
   "language": "python",
   "name": "python3"
  },
  "language_info": {
   "codemirror_mode": {
    "name": "ipython",
    "version": 3
   },
   "file_extension": ".py",
   "mimetype": "text/x-python",
   "name": "python",
   "nbconvert_exporter": "python",
   "pygments_lexer": "ipython3",
   "version": "3.8.13"
  }
 },
 "nbformat": 4,
 "nbformat_minor": 5
}

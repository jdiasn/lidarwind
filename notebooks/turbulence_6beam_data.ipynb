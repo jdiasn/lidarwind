{
 "cells": [
  {
   "cell_type": "markdown",
   "id": "786cd1a8-2f70-46c1-9e98-7d81ceaf7f36",
   "metadata": {},
   "source": [
    "## Introduction\n",
    "\n",
    "The work from [Sathe et al. 2015](https://doi.org/10.5194/amt-8-729-2015) introduces an alternative scanning strategy to be used by wind Doppler lidars for estimating turbulence. This new strategy consists of measuring the radial wind on five equally spaced azimuths with fixed elevation, different from 0 or 90 degrees,  and one additional measurement from the zenith. From those observations, the Reynolds stress tensor elements can be calculated following the method suggested developed by Sathe et al. 2015. \n",
    "\n",
    "This example shows how to use the lidarwind package to calculate the Reynolds stress tensor elements from the six beam observations obtained by the WindCube lidar 200s. This example is structured according to the steps listed below."
   ]
  },
  {
   "cell_type": "markdown",
   "id": "fc5dc5af-c85c-4674-bebb-1f9400658b3d",
   "metadata": {},
   "source": [
    "## Steps:\n",
    "\n",
    "0) Download data from zenodo\n",
    "1) Read the WindCube's data\n",
    "2) Merge data from one hour of observations\n",
    "3) Re-structure the data for using the wind retrieval\n",
    "4) Calculate the Reynolds stress tensor elements\n",
    "5) Visualisation"
   ]
  },
  {
   "cell_type": "code",
   "execution_count": null,
   "id": "074c721a-e416-4b5f-9677-d490d105b97c",
   "metadata": {},
   "outputs": [],
   "source": [
    "import glob\n",
    "import gdown\n",
    "import pooch\n",
    "\n",
    "import matplotlib.pyplot as plt\n",
    "import lidarwind as lst"
   ]
  },
  {
   "cell_type": "markdown",
   "id": "e7324109-32ea-4925-b348-82a2add25a32",
   "metadata": {},
   "source": [
    "### Step 0: Downloading sample data from zenodo"
   ]
  },
  {
   "cell_type": "markdown",
   "id": "6fba86a6-6e7b-4dd9-bf63-db84e0f1aebb",
   "metadata": {},
   "source": [
    "Using pooch the sample dataset will be cached in your system."
   ]
  },
  {
   "cell_type": "code",
   "execution_count": null,
   "id": "f5a3c57f-cea7-4129-bcf8-92630595cadb",
   "metadata": {},
   "outputs": [],
   "source": [
    "file_list = pooch.retrieve( \n",
    "    url=\"doi:10.5281/zenodo.7312960/wc_6beam.zip\",\n",
    "    known_hash=\"md5:a7ea3c10a6d2f4a97ff955dc4398f930\",\n",
    "    processor=pooch.Unzip())"
   ]
  },
  {
   "cell_type": "markdown",
   "id": "ef859b9a-1dbd-4923-99fd-12227e54a2c4",
   "metadata": {},
   "source": [
    "### Step 1 and 2: reading and merging the 6-beam data"
   ]
  },
  {
   "cell_type": "code",
   "execution_count": null,
   "id": "90cf9f04-4bad-44bb-a03f-6c99508778f2",
   "metadata": {
    "tags": []
   },
   "outputs": [],
   "source": [
    "file_list = sorted(file_list)\n",
    "merged_ds = lst.DataOperations(file_list).merged_data"
   ]
  },
  {
   "cell_type": "markdown",
   "id": "3094e317-3270-4db4-85bd-5386f51f9350",
   "metadata": {},
   "source": [
    "Below you can see all the variables available on the original WindCube's data. Not all of them are needed for retrieving the wind profiles. Note that the variables from the vertical observations are kept separate from the slanted observations. "
   ]
  },
  {
   "cell_type": "code",
   "execution_count": null,
   "id": "56c8054b-80a8-4837-8c02-e616a04e2f85",
   "metadata": {},
   "outputs": [],
   "source": [
    "merged_ds"
   ]
  },
  {
   "cell_type": "markdown",
   "id": "3de90219-0604-4189-bc3b-2dddeb0b530f",
   "metadata": {
    "tags": []
   },
   "source": [
    "### Step 3: re-structuring the data"
   ]
  },
  {
   "cell_type": "markdown",
   "id": "ac7209fb-8ccd-4389-8236-4025f1690efa",
   "metadata": {},
   "source": [
    "The re-structured object contains all the information needed to calculate the Reynolds stress tensor elements."
   ]
  },
  {
   "cell_type": "code",
   "execution_count": null,
   "id": "17e2f04b-8db4-4713-b322-d8964e955999",
   "metadata": {},
   "outputs": [],
   "source": [
    "restruct_data = lst.GetRestructuredData(merged_ds)"
   ]
  },
  {
   "cell_type": "markdown",
   "id": "367c7f6d-1305-4e47-877a-dfe690034467",
   "metadata": {},
   "source": [
    "### Step 4: Calculate the Reynolds stress tensor elements"
   ]
  },
  {
   "cell_type": "markdown",
   "id": "5a07b9af-fd84-4879-ab91-4982a49157cd",
   "metadata": {},
   "source": [
    "To calculate Reynolds stress tensor elements, you need to define a time window (a frequency). Since lidarwind takes advantage of the xarray library, the frequency for calculating those elements is defined in terms of the number of profiles. However, a frequency in terms of time is more practical. In the following fuor lines, a time frequency will be related to its equivalent in terms of profile frequency."
   ]
  },
  {
   "cell_type": "code",
   "execution_count": null,
   "id": "d305f5eb-e51c-4789-ac8c-7167f117fd4e",
   "metadata": {},
   "outputs": [],
   "source": [
    "# desired time windown in minutes\n",
    "time_window = 5\n",
    "\n",
    "# duration of one minute in seconds\n",
    "minute_lenght = 60\n",
    "\n",
    "# vertical observations time resolution in seconds\n",
    "time_resolution = restruct_data.data_transf_90.time.diff(dim='time').values * 1e-9\n",
    "time_resolution = int(time_resolution[0])\n",
    "\n",
    "# frequency convertion from minutes to profile number\n",
    "freq = (minute_lenght/time_resolution)*time_window\n",
    "freq = int(freq)"
   ]
  },
  {
   "cell_type": "markdown",
   "id": "824fce48-71bc-4312-8900-e5176205dc8b",
   "metadata": {},
   "source": [
    "Applying the 6-beam method to calculate Reynolds stress tensor elements"
   ]
  },
  {
   "cell_type": "code",
   "execution_count": null,
   "id": "66728949-d077-4d2e-a254-db3a3554e8fc",
   "metadata": {},
   "outputs": [],
   "source": [
    "turb_data = lst.SixBeamMethod(restruct_data, freq=freq, freq90=freq)"
   ]
  },
  {
   "cell_type": "markdown",
   "id": "90103ade-953a-449f-a6a7-3f86bc8b5597",
   "metadata": {},
   "source": [
    "Have a look at the Reynolds elements dataset"
   ]
  },
  {
   "cell_type": "code",
   "execution_count": null,
   "id": "e90338c7-26ff-49bd-9ea3-0db3aea2bd95",
   "metadata": {},
   "outputs": [],
   "source": [
    "turb_data.var_comp_ds"
   ]
  },
  {
   "cell_type": "markdown",
   "id": "b2e4789f-8927-4ab6-b482-94bb68967696",
   "metadata": {},
   "source": [
    "Below we will have the first impressions of the retrieved data. Note that there are negative variances, which is mathematically impossible. Those negative is a known artefact of the 6-beam method."
   ]
  },
  {
   "cell_type": "markdown",
   "id": "38243d49-3252-4237-9236-eb2455fc9a9c",
   "metadata": {},
   "source": [
    "### Step 5: Visualisation"
   ]
  },
  {
   "cell_type": "code",
   "execution_count": null,
   "id": "cc0468de-2780-47b8-94a6-f0e06d3b5efa",
   "metadata": {},
   "outputs": [],
   "source": [
    "turb_data.var_comp_ds.var_u.plot(x='time', cmap='Spectral', vmin=-5, vmax=5)\n",
    "plt.show()\n",
    "\n",
    "turb_data.var_comp_ds.var_v.plot(x='time', cmap='Spectral', vmin=-5, vmax=5)\n",
    "plt.show()\n",
    "\n",
    "turb_data.var_comp_ds.var_w.plot(x='time', cmap='Spectral', vmin=0, vmax=1)\n",
    "plt.show()"
   ]
  }
 ],
 "metadata": {
  "kernelspec": {
   "display_name": "Python 3 (ipykernel)",
   "language": "python",
   "name": "python3"
  },
  "language_info": {
   "codemirror_mode": {
    "name": "ipython",
    "version": 3
   },
   "file_extension": ".py",
   "mimetype": "text/x-python",
   "name": "python",
   "nbconvert_exporter": "python",
   "pygments_lexer": "ipython3",
   "version": "3.8.13"
  }
 },
 "nbformat": 4,
 "nbformat_minor": 5
}

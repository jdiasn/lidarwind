{
 "cells": [
  {
   "cell_type": "markdown",
   "id": "5a4475fa-e52b-479b-9c81-2a5ee5071030",
   "metadata": {},
   "source": [
    "## Goal:\n",
    "\n",
    "One possible way to retrieve winds using wind lidar is using the Doppler beam swing (DBS) scanning strategy. The DBS consists of four slanted observations of the wind. Each one of the observations is from a different azimuth, equally separated by 90 degrees (0, 90, 180, 270). While executing the DBS, the lidar first observes the wind at azimuths of 0 and 180 degrees and then at 90 and 270 degrees. From those observations, the north-south and east-west wind components can be calculated directly.\n",
    "\n",
    "This example focuses on using lidarwind to retrieve wind speed and direction profiles from the observations collected by the WindCube using the DBS scan strategy. \n",
    "\n",
    "## Steps:\n",
    "\n",
    "1) Downloading sample data from zenodo\n",
    "1) Reading the DBS files\n",
    "2) Merging the DBS files\n",
    "3) Retrieving the wind profiles \n",
    "4) Visualising the profiles"
   ]
  },
  {
   "cell_type": "code",
   "execution_count": null,
   "id": "d48102e0-d462-491d-9f93-5a5c9b2b2f09",
   "metadata": {},
   "outputs": [],
   "source": [
    "import pooch\n",
    "import matplotlib.pyplot as plt\n",
    "import lidarwind as lst"
   ]
  },
  {
   "cell_type": "markdown",
   "id": "af18abd4-3ac4-41ee-8247-15cd2ab779fd",
   "metadata": {},
   "source": [
    "### Step 0: Downloading the sample data"
   ]
  },
  {
   "cell_type": "markdown",
   "id": "766aa9b4-f1cc-4705-b32d-8d398d4907c3",
   "metadata": {},
   "source": [
    "Caching the short DBS sample data"
   ]
  },
  {
   "cell_type": "code",
   "execution_count": null,
   "id": "386b50e5-c32a-48ac-a65f-88675e43174f",
   "metadata": {},
   "outputs": [],
   "source": [
    "# 6-beam sample data\n",
    "\n",
    "file_list = pooch.retrieve(\n",
    "    url=\"doi:10.5281/zenodo.7312960/wc_short_dbs.zip\",\n",
    "    known_hash=\"md5:9cbd93f89052d6c6f4407bcce415e277\",\n",
    "    processor=pooch.Unzip())\n",
    "\n",
    "file_list = sorted(file_list)"
   ]
  },
  {
   "cell_type": "markdown",
   "id": "df122154-b517-4d1c-9cc9-69f060ebfd22",
   "metadata": {},
   "source": [
    "### Step 1 and 2: Reading and merging the DBS "
   ]
  },
  {
   "cell_type": "markdown",
   "id": "52c53bc8-07d2-4cb0-8f7d-8505807f13fd",
   "metadata": {},
   "source": [
    "Here we are going to read all the DBS files. Be careful to provide a list of files that are compatible with each other. Here we also indicate the variables required for processing the DBS files. Finally, the merged dataset is created. "
   ]
  },
  {
   "cell_type": "code",
   "execution_count": null,
   "id": "3839b2d4-34d4-42cb-b63a-bc2fdf8fc62c",
   "metadata": {},
   "outputs": [],
   "source": [
    "var_list = ['azimuth', 'elevation', 'radial_wind_speed', \n",
    "            'radial_wind_speed_status', 'measurement_height', 'cnr']\n",
    "\n",
    "merged_ds = lst.DbsOperations(file_list, var_list).merged_ds"
   ]
  },
  {
   "cell_type": "markdown",
   "id": "066d4646-1fc7-481e-bef4-464175612124",
   "metadata": {},
   "source": [
    "Below, you can see the merged dataset and the variables used during the wind retrieval. You can also see one additional variable, the scan_mean_time. This variable is used to identify observations belonging to the same DBS sequence and is used if the parameter method from  GetWindProperties5Beam is set to single_dbs. "
   ]
  },
  {
   "cell_type": "code",
   "execution_count": null,
   "id": "3493e1ed-dbb4-47be-a67f-053f361286a1",
   "metadata": {},
   "outputs": [],
   "source": [
    "merged_ds"
   ]
  },
  {
   "cell_type": "markdown",
   "id": "1579299b-809e-41de-9d1b-f0153a7b0c5a",
   "metadata": {},
   "source": [
    "### Step 3: Retrieving wind profiles "
   ]
  },
  {
   "cell_type": "markdown",
   "id": "9a13c5c5-7b18-4cb4-9c65-b77cfbf3634e",
   "metadata": {},
   "source": [
    "Once the merged dataset is created, you can use the dedicated class to retrieve the wind profiles. "
   ]
  },
  {
   "cell_type": "code",
   "execution_count": null,
   "id": "f7e87cad-afc2-4c89-accb-f2d0f6074021",
   "metadata": {},
   "outputs": [],
   "source": [
    "wind_obj = lst.GetWindProperties5Beam(merged_ds)"
   ]
  },
  {
   "cell_type": "markdown",
   "id": "7ca5741f-d5bc-48a8-b1f3-eb428b4f0349",
   "metadata": {},
   "source": [
    "As indicated below, you can read the wind profiles directly from the wind_obj (wind object). Since they have different timestamps, it is helpful to resample the data into a regular time grid."
   ]
  },
  {
   "cell_type": "code",
   "execution_count": null,
   "id": "21db6318-294a-4a7f-8c72-232302de0d06",
   "metadata": {},
   "outputs": [],
   "source": [
    "hor_wind_speed = lst.GetResampledData(wind_obj.hor_wind_speed, time_freq='20s', tolerance=10)\n",
    "ver_wind_speed = lst.GetResampledData(wind_obj.ver_wind_speed, time_freq='20s', tolerance=10)\n",
    "hor_wind_dir = lst.GetResampledData(wind_obj.hor_wind_dir, time_freq='20s', tolerance=10)"
   ]
  },
  {
   "cell_type": "markdown",
   "id": "a14bf1a2-a1b9-4d2d-aa95-4e6993f24d7b",
   "metadata": {},
   "source": [
    "### Step 4: Visualising the profiles"
   ]
  },
  {
   "cell_type": "markdown",
   "id": "2eee2170-e2d0-4dee-b1d9-029411db645c",
   "metadata": {},
   "source": [
    "After resampling, you can use the xarray methods to plot the data. "
   ]
  },
  {
   "cell_type": "code",
   "execution_count": null,
   "id": "03ab9f9a-680b-4988-81f2-c31d58cbef8f",
   "metadata": {},
   "outputs": [],
   "source": [
    "t1 = merged_ds.time.values[0]\n",
    "t2 = merged_ds.time.values[-1]\n",
    "\n",
    "hor_wind_speed.resampled.sortby('time_ref').sel(time_ref=slice(t1,t2)).plot(y='range', cmap='turbo')\n",
    "plt.show()\n",
    "\n",
    "ver_wind_speed.resampled.sortby('time_ref').sel(time_ref=slice(t1,t2)).plot(y='range', cmap='turbo')\n",
    "plt.show()\n",
    "\n",
    "hor_wind_dir.resampled.sortby('time_ref').sel(time_ref=slice(t1,t2)).plot(y='range', cmap='hsv')\n",
    "plt.show()"
   ]
  }
 ],
 "metadata": {
  "kernelspec": {
   "display_name": "Python 3 (ipykernel)",
   "language": "python",
   "name": "python3"
  },
  "language_info": {
   "codemirror_mode": {
    "name": "ipython",
    "version": 3
   },
   "file_extension": ".py",
   "mimetype": "text/x-python",
   "name": "python",
   "nbconvert_exporter": "python",
   "pygments_lexer": "ipython3",
   "version": "3.8.13"
  }
 },
 "nbformat": 4,
 "nbformat_minor": 5
}

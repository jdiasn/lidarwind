{
 "cells": [
  {
   "cell_type": "markdown",
   "id": "5a4475fa-e52b-479b-9c81-2a5ee5071030",
   "metadata": {},
   "source": [
    "## Introduction:\n",
    "\n",
    "One possible way to retrieve winds using wind lidar is using the Doppler beam swing (DBS) scanning strategy. The DBS consists of four slanted observations of the wind. Each one of the observations is from a different azimuth, equally separated by 90 degrees (0, 90, 180, 270). While executing the DBS, the lidar first observes the wind at azimuths of 0 and 180 degrees and then at 90 and 270 degrees. From those observations, the north-south and east-west wind components can be calculated directly.\n",
    "\n",
    "This example focuses on using lidarwind to retrieve wind speed and direction profiles from the observations collected by the WindCube using the DBS scan strategy. This example is structurally similar to dbs_scans. The only difference is the input data. Instead of individual files for each complete DBS scan, each file contains several complete DBS scans.\n",
    "\n",
    "## Steps:\n",
    "\n",
    "1) Downloading sample data from zenodo\n",
    "1) Reading the DBS files\n",
    "2) Merging the DBS files\n",
    "3) Retrieving the wind profiles \n",
    "4) Visualising the profiles"
   ]
  },
  {
   "cell_type": "code",
   "execution_count": null,
   "id": "d7c8bedc-ba5c-4de0-8060-78362b2cd88c",
   "metadata": {},
   "outputs": [],
   "source": [
    "import pooch\n",
    "import matplotlib.pyplot as plt\n",
    "import lidarwind as lst"
   ]
  },
  {
   "cell_type": "markdown",
   "id": "af18abd4-3ac4-41ee-8247-15cd2ab779fd",
   "metadata": {},
   "source": [
    "### Step 0: Downloading the sample data"
   ]
  },
  {
   "cell_type": "code",
   "execution_count": null,
   "id": "705b0df0-07f2-4fa3-a355-048fa03a1aae",
   "metadata": {},
   "outputs": [],
   "source": [
    "file_list = pooch.retrieve(\n",
    "    url=\"doi:10.5281/zenodo.7312960/wc_long_dbs.zip\",\n",
    "    known_hash=\"md5:53b4eb6e5dad6dfdaddfbb718dcf8910\",\n",
    "    processor=pooch.Unzip())\n",
    "\n",
    "file_list = sorted(file_list)"
   ]
  },
  {
   "cell_type": "markdown",
   "id": "a5f2fea2-88d5-481c-857e-f34573274325",
   "metadata": {},
   "source": [
    "### Step 1 and 2: Reading and merging the long DBS files"
   ]
  },
  {
   "cell_type": "markdown",
   "id": "9816ec72-029a-4f99-838b-1036ea71259f",
   "metadata": {},
   "source": [
    "Here we are going to read all the DBS files. Be careful to provide a list of files that are compatible with each other. Here we also indicate the variables required for processing the DBS fils. Finally, the merged dataset is created. "
   ]
  },
  {
   "cell_type": "code",
   "execution_count": null,
   "id": "0978e96b-8114-4ba7-a497-f659f2133aeb",
   "metadata": {},
   "outputs": [],
   "source": [
    "var_list = ['azimuth', 'elevation', 'radial_wind_speed', \n",
    "            'radial_wind_speed_status', 'measurement_height', 'cnr']\n",
    "\n",
    "merged_ds = lst.DbsOperations(file_list, var_list).merged_ds"
   ]
  },
  {
   "cell_type": "markdown",
   "id": "c200e20e-849b-4de4-bca5-141acff350fb",
   "metadata": {},
   "source": [
    "### Step 3: Wind profile retrievals"
   ]
  },
  {
   "cell_type": "markdown",
   "id": "105554ab-e180-46eb-b9e7-98cad042412d",
   "metadata": {},
   "source": [
    "Once the merged dataset is created, you can use the dedicated class to retrieve the wind profiles. "
   ]
  },
  {
   "cell_type": "code",
   "execution_count": null,
   "id": "389ab857-d969-4398-a1a6-d670a8f4727f",
   "metadata": {},
   "outputs": [],
   "source": [
    "wind_obj = lst.GetWindProperties5Beam(merged_ds)"
   ]
  },
  {
   "cell_type": "markdown",
   "id": "684431d1-e481-4b80-93c0-8fe612d5b8d9",
   "metadata": {},
   "source": [
    "As indicated below, you can read the wind profiles directly from the wind_obj (wind object). Since they have different timestamps, it is helpful to resample the data into a regular time grid."
   ]
  },
  {
   "cell_type": "code",
   "execution_count": null,
   "id": "21db6318-294a-4a7f-8c72-232302de0d06",
   "metadata": {},
   "outputs": [],
   "source": [
    "hor_wind_speed = lst.GetResampledData(wind_obj.hor_wind_speed, time_freq='20s', tolerance=10)\n",
    "ver_wind_speed = lst.GetResampledData(wind_obj.ver_wind_speed, time_freq='20s', tolerance=10)\n",
    "hor_wind_dir = lst.GetResampledData(wind_obj.hor_wind_dir, time_freq='20s', tolerance=10)"
   ]
  },
  {
   "cell_type": "markdown",
   "id": "a14bf1a2-a1b9-4d2d-aa95-4e6993f24d7b",
   "metadata": {},
   "source": [
    "### Step 4: Visualising the profiles"
   ]
  },
  {
   "cell_type": "markdown",
   "id": "2eee2170-e2d0-4dee-b1d9-029411db645c",
   "metadata": {},
   "source": [
    "After resampling, you can use the xarray methods to plot the data. "
   ]
  },
  {
   "cell_type": "code",
   "execution_count": null,
   "id": "03ab9f9a-680b-4988-81f2-c31d58cbef8f",
   "metadata": {},
   "outputs": [],
   "source": [
    "t1 = merged_ds.time.values[0]\n",
    "t2 = merged_ds.time.values[-1]\n",
    "\n",
    "hor_wind_speed.resampled.sel(time_ref=slice(t1,t2)).plot(y='range', cmap='turbo')\n",
    "plt.show()\n",
    "\n",
    "ver_wind_speed.resampled.sel(time_ref=slice(t1,t2)).plot(y='range', cmap='turbo')\n",
    "plt.show()\n",
    "\n",
    "hor_wind_dir.resampled.sel(time_ref=slice(t1,t2)).plot(y='range', cmap='hsv')\n",
    "plt.show()"
   ]
  },
  {
   "cell_type": "code",
   "execution_count": null,
   "id": "d99cf71a-d650-4a9f-be23-634e1d012bc7",
   "metadata": {},
   "outputs": [],
   "source": []
  }
 ],
 "metadata": {
  "kernelspec": {
   "display_name": "Python 3 (ipykernel)",
   "language": "python",
   "name": "python3"
  },
  "language_info": {
   "codemirror_mode": {
    "name": "ipython",
    "version": 3
   },
   "file_extension": ".py",
   "mimetype": "text/x-python",
   "name": "python",
   "nbconvert_exporter": "python",
   "pygments_lexer": "ipython3",
   "version": "3.8.13"
  }
 },
 "nbformat": 4,
 "nbformat_minor": 5
}
